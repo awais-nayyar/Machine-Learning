{
 "cells": [
  {
   "cell_type": "markdown",
   "metadata": {
    "id": "xJLfeRFJTIhF"
   },
   "source": [
    "# **Installing Dependencies**"
   ]
  },
  {
   "cell_type": "markdown",
   "metadata": {
    "id": "xvSpPo3bTAUl"
   },
   "source": [
    "# **Necessary Dependencies**"
   ]
  },
  {
   "cell_type": "code",
   "execution_count": 1,
   "metadata": {
    "id": "aDxtDxxXmASB"
   },
   "outputs": [],
   "source": [
    "import neattext as nt  #Package for text cleaning\n",
    "import numpy as np     #package for arrays handling\n",
    "import pandas as pd    #package for data analysis\n",
    "# packages for data visualizations\n",
    "import seaborn as sns\n",
    "import plotly.express as px\n",
    "import matplotlib.pyplot as plt"
   ]
  },
  {
   "cell_type": "markdown",
   "metadata": {
    "id": "iqjfJQjKSUA5"
   },
   "source": [
    "# **Reading The Data**"
   ]
  },
  {
   "cell_type": "code",
   "execution_count": 2,
   "metadata": {
    "id": "x2ToOIkL4xDz"
   },
   "outputs": [],
   "source": [
    "import io\n",
    "tweets_df = pd.read_csv('vaccination_all_tweets.csv')"
   ]
  },
  {
   "cell_type": "markdown",
   "metadata": {
    "id": "DWKyIwxqVv7B"
   },
   "source": [
    "### **Shape of the Data**"
   ]
  },
  {
   "cell_type": "code",
   "execution_count": 3,
   "metadata": {
    "colab": {
     "base_uri": "https://localhost:8080/"
    },
    "id": "r2P9p_KCVJQu",
    "outputId": "cbcc6a2c-b0d8-4bed-d5f1-c5177e9b4494"
   },
   "outputs": [
    {
     "data": {
      "text/plain": [
       "(228207, 16)"
      ]
     },
     "execution_count": 3,
     "metadata": {},
     "output_type": "execute_result"
    }
   ],
   "source": [
    "tweets_df.shape"
   ]
  },
  {
   "cell_type": "markdown",
   "metadata": {
    "id": "wdtc9HEDV0-q"
   },
   "source": [
    "### **Checking Null Value**"
   ]
  },
  {
   "cell_type": "code",
   "execution_count": 4,
   "metadata": {
    "colab": {
     "base_uri": "https://localhost:8080/"
    },
    "id": "DOcy30VmVJFP",
    "outputId": "37b18340-8ddd-49ea-f524-2b14afb22a0a"
   },
   "outputs": [
    {
     "data": {
      "text/plain": [
       "id                      0\n",
       "user_name               2\n",
       "user_location       66911\n",
       "user_description    17018\n",
       "user_created            0\n",
       "user_followers          0\n",
       "user_friends            0\n",
       "user_favourites         0\n",
       "user_verified           0\n",
       "date                    0\n",
       "text                    0\n",
       "hashtags            49703\n",
       "source                119\n",
       "retweets                0\n",
       "favorites               0\n",
       "is_retweet              0\n",
       "dtype: int64"
      ]
     },
     "execution_count": 4,
     "metadata": {},
     "output_type": "execute_result"
    }
   ],
   "source": [
    "tweets_df.isnull().sum()"
   ]
  },
  {
   "cell_type": "markdown",
   "metadata": {
    "id": "g4rl9dueWGKy"
   },
   "source": [
    "### **Removing Columns that are Un-Necessary and with Most Null Values**"
   ]
  },
  {
   "cell_type": "code",
   "execution_count": 5,
   "metadata": {
    "id": "MDcDUz81VI7Q"
   },
   "outputs": [],
   "source": [
    "# tweets_df=tweets_df.drop(['user_description','hashtags'],axis=1)"
   ]
  },
  {
   "cell_type": "markdown",
   "metadata": {
    "id": "ddHurcEuWklu"
   },
   "source": [
    "# **Tweets by Month/Year**"
   ]
  },
  {
   "cell_type": "code",
   "execution_count": 6,
   "metadata": {},
   "outputs": [
    {
     "name": "stdout",
     "output_type": "stream",
     "text": [
      "<class 'pandas.core.frame.DataFrame'>\n",
      "RangeIndex: 228207 entries, 0 to 228206\n",
      "Data columns (total 16 columns):\n",
      " #   Column            Non-Null Count   Dtype \n",
      "---  ------            --------------   ----- \n",
      " 0   id                228207 non-null  int64 \n",
      " 1   user_name         228205 non-null  object\n",
      " 2   user_location     161296 non-null  object\n",
      " 3   user_description  211189 non-null  object\n",
      " 4   user_created      228207 non-null  object\n",
      " 5   user_followers    228207 non-null  int64 \n",
      " 6   user_friends      228207 non-null  int64 \n",
      " 7   user_favourites   228207 non-null  int64 \n",
      " 8   user_verified     228207 non-null  bool  \n",
      " 9   date              228207 non-null  object\n",
      " 10  text              228207 non-null  object\n",
      " 11  hashtags          178504 non-null  object\n",
      " 12  source            228088 non-null  object\n",
      " 13  retweets          228207 non-null  int64 \n",
      " 14  favorites         228207 non-null  int64 \n",
      " 15  is_retweet        228207 non-null  bool  \n",
      "dtypes: bool(2), int64(6), object(8)\n",
      "memory usage: 24.8+ MB\n"
     ]
    }
   ],
   "source": [
    "tweets_df.info()"
   ]
  },
  {
   "cell_type": "code",
   "execution_count": 7,
   "metadata": {},
   "outputs": [
    {
     "data": {
      "text/html": [
       "<div>\n",
       "<style scoped>\n",
       "    .dataframe tbody tr th:only-of-type {\n",
       "        vertical-align: middle;\n",
       "    }\n",
       "\n",
       "    .dataframe tbody tr th {\n",
       "        vertical-align: top;\n",
       "    }\n",
       "\n",
       "    .dataframe thead th {\n",
       "        text-align: right;\n",
       "    }\n",
       "</style>\n",
       "<table border=\"1\" class=\"dataframe\">\n",
       "  <thead>\n",
       "    <tr style=\"text-align: right;\">\n",
       "      <th></th>\n",
       "      <th>id</th>\n",
       "      <th>user_name</th>\n",
       "      <th>user_location</th>\n",
       "      <th>user_description</th>\n",
       "      <th>user_created</th>\n",
       "      <th>user_followers</th>\n",
       "      <th>user_friends</th>\n",
       "      <th>user_favourites</th>\n",
       "      <th>user_verified</th>\n",
       "      <th>date</th>\n",
       "      <th>text</th>\n",
       "      <th>hashtags</th>\n",
       "      <th>source</th>\n",
       "      <th>retweets</th>\n",
       "      <th>favorites</th>\n",
       "      <th>is_retweet</th>\n",
       "    </tr>\n",
       "  </thead>\n",
       "  <tbody>\n",
       "    <tr>\n",
       "      <th>0</th>\n",
       "      <td>1340539111971516416</td>\n",
       "      <td>Rachel Roh</td>\n",
       "      <td>La Crescenta-Montrose, CA</td>\n",
       "      <td>Aggregator of Asian American news; scanning di...</td>\n",
       "      <td>2009-04-08 17:52:46</td>\n",
       "      <td>405</td>\n",
       "      <td>1692</td>\n",
       "      <td>3247</td>\n",
       "      <td>False</td>\n",
       "      <td>2020-12-20 06:06:44</td>\n",
       "      <td>Same folks said daikon paste could treat a cyt...</td>\n",
       "      <td>['PfizerBioNTech']</td>\n",
       "      <td>Twitter for Android</td>\n",
       "      <td>0</td>\n",
       "      <td>0</td>\n",
       "      <td>False</td>\n",
       "    </tr>\n",
       "    <tr>\n",
       "      <th>1</th>\n",
       "      <td>1338158543359250433</td>\n",
       "      <td>Albert Fong</td>\n",
       "      <td>San Francisco, CA</td>\n",
       "      <td>Marketing dude, tech geek, heavy metal &amp; '80s ...</td>\n",
       "      <td>2009-09-21 15:27:30</td>\n",
       "      <td>834</td>\n",
       "      <td>666</td>\n",
       "      <td>178</td>\n",
       "      <td>False</td>\n",
       "      <td>2020-12-13 16:27:13</td>\n",
       "      <td>While the world has been on the wrong side of ...</td>\n",
       "      <td>NaN</td>\n",
       "      <td>Twitter Web App</td>\n",
       "      <td>1</td>\n",
       "      <td>1</td>\n",
       "      <td>False</td>\n",
       "    </tr>\n",
       "    <tr>\n",
       "      <th>2</th>\n",
       "      <td>1337858199140118533</td>\n",
       "      <td>eli🇱🇹🇪🇺👌</td>\n",
       "      <td>Your Bed</td>\n",
       "      <td>heil, hydra 🖐☺</td>\n",
       "      <td>2020-06-25 23:30:28</td>\n",
       "      <td>10</td>\n",
       "      <td>88</td>\n",
       "      <td>155</td>\n",
       "      <td>False</td>\n",
       "      <td>2020-12-12 20:33:45</td>\n",
       "      <td>#coronavirus #SputnikV #AstraZeneca #PfizerBio...</td>\n",
       "      <td>['coronavirus', 'SputnikV', 'AstraZeneca', 'Pf...</td>\n",
       "      <td>Twitter for Android</td>\n",
       "      <td>0</td>\n",
       "      <td>0</td>\n",
       "      <td>False</td>\n",
       "    </tr>\n",
       "    <tr>\n",
       "      <th>3</th>\n",
       "      <td>1337855739918835717</td>\n",
       "      <td>Charles Adler</td>\n",
       "      <td>Vancouver, BC - Canada</td>\n",
       "      <td>Hosting \"CharlesAdlerTonight\" Global News Radi...</td>\n",
       "      <td>2008-09-10 11:28:53</td>\n",
       "      <td>49165</td>\n",
       "      <td>3933</td>\n",
       "      <td>21853</td>\n",
       "      <td>True</td>\n",
       "      <td>2020-12-12 20:23:59</td>\n",
       "      <td>Facts are immutable, Senator, even when you're...</td>\n",
       "      <td>NaN</td>\n",
       "      <td>Twitter Web App</td>\n",
       "      <td>446</td>\n",
       "      <td>2129</td>\n",
       "      <td>False</td>\n",
       "    </tr>\n",
       "    <tr>\n",
       "      <th>4</th>\n",
       "      <td>1337854064604966912</td>\n",
       "      <td>Citizen News Channel</td>\n",
       "      <td>NaN</td>\n",
       "      <td>Citizen News Channel bringing you an alternati...</td>\n",
       "      <td>2020-04-23 17:58:42</td>\n",
       "      <td>152</td>\n",
       "      <td>580</td>\n",
       "      <td>1473</td>\n",
       "      <td>False</td>\n",
       "      <td>2020-12-12 20:17:19</td>\n",
       "      <td>Explain to me again why we need a vaccine @Bor...</td>\n",
       "      <td>['whereareallthesickpeople', 'PfizerBioNTech']</td>\n",
       "      <td>Twitter for iPhone</td>\n",
       "      <td>0</td>\n",
       "      <td>0</td>\n",
       "      <td>False</td>\n",
       "    </tr>\n",
       "    <tr>\n",
       "      <th>...</th>\n",
       "      <td>...</td>\n",
       "      <td>...</td>\n",
       "      <td>...</td>\n",
       "      <td>...</td>\n",
       "      <td>...</td>\n",
       "      <td>...</td>\n",
       "      <td>...</td>\n",
       "      <td>...</td>\n",
       "      <td>...</td>\n",
       "      <td>...</td>\n",
       "      <td>...</td>\n",
       "      <td>...</td>\n",
       "      <td>...</td>\n",
       "      <td>...</td>\n",
       "      <td>...</td>\n",
       "      <td>...</td>\n",
       "    </tr>\n",
       "    <tr>\n",
       "      <th>228202</th>\n",
       "      <td>1460170772299665408</td>\n",
       "      <td>VaxBLR</td>\n",
       "      <td>Bengaluru, India</td>\n",
       "      <td>Hourly updates on FREE and PAID 18+ and 45+ va...</td>\n",
       "      <td>2021-06-21 08:44:34</td>\n",
       "      <td>31</td>\n",
       "      <td>0</td>\n",
       "      <td>0</td>\n",
       "      <td>False</td>\n",
       "      <td>2021-11-15 09:00:15</td>\n",
       "      <td>45+ #URBAN #Bengaluru #CovidVaccine Availabili...</td>\n",
       "      <td>['URBAN', 'Bengaluru', 'CovidVaccine', 'COVISH...</td>\n",
       "      <td>VaxBlr</td>\n",
       "      <td>0</td>\n",
       "      <td>0</td>\n",
       "      <td>False</td>\n",
       "    </tr>\n",
       "    <tr>\n",
       "      <th>228203</th>\n",
       "      <td>1460163268262051841</td>\n",
       "      <td>VaxBLR</td>\n",
       "      <td>Bengaluru, India</td>\n",
       "      <td>Hourly updates on FREE and PAID 18+ and 45+ va...</td>\n",
       "      <td>2021-06-21 08:44:34</td>\n",
       "      <td>31</td>\n",
       "      <td>0</td>\n",
       "      <td>0</td>\n",
       "      <td>False</td>\n",
       "      <td>2021-11-15 08:30:26</td>\n",
       "      <td>18-44 #BBMP #Bengaluru #CovidVaccine Availabil...</td>\n",
       "      <td>['BBMP', 'Bengaluru', 'CovidVaccine', 'COVISHI...</td>\n",
       "      <td>VaxBlr</td>\n",
       "      <td>0</td>\n",
       "      <td>1</td>\n",
       "      <td>False</td>\n",
       "    </tr>\n",
       "    <tr>\n",
       "      <th>228204</th>\n",
       "      <td>1460163224221851655</td>\n",
       "      <td>VaxBLR</td>\n",
       "      <td>Bengaluru, India</td>\n",
       "      <td>Hourly updates on FREE and PAID 18+ and 45+ va...</td>\n",
       "      <td>2021-06-21 08:44:34</td>\n",
       "      <td>31</td>\n",
       "      <td>0</td>\n",
       "      <td>0</td>\n",
       "      <td>False</td>\n",
       "      <td>2021-11-15 08:30:15</td>\n",
       "      <td>18-44 #URBAN #Bengaluru #CovidVaccine Availabi...</td>\n",
       "      <td>['URBAN', 'Bengaluru', 'CovidVaccine', 'COVISH...</td>\n",
       "      <td>VaxBlr</td>\n",
       "      <td>0</td>\n",
       "      <td>0</td>\n",
       "      <td>False</td>\n",
       "    </tr>\n",
       "    <tr>\n",
       "      <th>228205</th>\n",
       "      <td>1460156376995573765</td>\n",
       "      <td>Gatti Valentino🐾</td>\n",
       "      <td>Southern  Africa</td>\n",
       "      <td>Entrepreneur, self taught cook🍲🌮 @Chelsea @Fer...</td>\n",
       "      <td>2019-08-28 10:31:43</td>\n",
       "      <td>8103</td>\n",
       "      <td>3113</td>\n",
       "      <td>45726</td>\n",
       "      <td>False</td>\n",
       "      <td>2021-11-15 08:03:03</td>\n",
       "      <td>They promote their Vaccines leaving out the st...</td>\n",
       "      <td>['SputnikV']</td>\n",
       "      <td>Twitter for Android</td>\n",
       "      <td>0</td>\n",
       "      <td>0</td>\n",
       "      <td>False</td>\n",
       "    </tr>\n",
       "    <tr>\n",
       "      <th>228206</th>\n",
       "      <td>1460155671140134912</td>\n",
       "      <td>VaxBLR</td>\n",
       "      <td>Bengaluru, India</td>\n",
       "      <td>Hourly updates on FREE and PAID 18+ and 45+ va...</td>\n",
       "      <td>2021-06-21 08:44:34</td>\n",
       "      <td>31</td>\n",
       "      <td>0</td>\n",
       "      <td>0</td>\n",
       "      <td>False</td>\n",
       "      <td>2021-11-15 08:00:15</td>\n",
       "      <td>45+ #URBAN #Bengaluru #CovidVaccine Availabili...</td>\n",
       "      <td>['URBAN', 'Bengaluru', 'CovidVaccine', 'COVISH...</td>\n",
       "      <td>VaxBlr</td>\n",
       "      <td>0</td>\n",
       "      <td>0</td>\n",
       "      <td>False</td>\n",
       "    </tr>\n",
       "  </tbody>\n",
       "</table>\n",
       "<p>228207 rows × 16 columns</p>\n",
       "</div>"
      ],
      "text/plain": [
       "                         id             user_name              user_location  \\\n",
       "0       1340539111971516416            Rachel Roh  La Crescenta-Montrose, CA   \n",
       "1       1338158543359250433           Albert Fong          San Francisco, CA   \n",
       "2       1337858199140118533              eli🇱🇹🇪🇺👌                   Your Bed   \n",
       "3       1337855739918835717         Charles Adler     Vancouver, BC - Canada   \n",
       "4       1337854064604966912  Citizen News Channel                        NaN   \n",
       "...                     ...                   ...                        ...   \n",
       "228202  1460170772299665408                VaxBLR           Bengaluru, India   \n",
       "228203  1460163268262051841                VaxBLR           Bengaluru, India   \n",
       "228204  1460163224221851655                VaxBLR           Bengaluru, India   \n",
       "228205  1460156376995573765      Gatti Valentino🐾          Southern  Africa    \n",
       "228206  1460155671140134912                VaxBLR           Bengaluru, India   \n",
       "\n",
       "                                         user_description  \\\n",
       "0       Aggregator of Asian American news; scanning di...   \n",
       "1       Marketing dude, tech geek, heavy metal & '80s ...   \n",
       "2                                          heil, hydra 🖐☺   \n",
       "3       Hosting \"CharlesAdlerTonight\" Global News Radi...   \n",
       "4       Citizen News Channel bringing you an alternati...   \n",
       "...                                                   ...   \n",
       "228202  Hourly updates on FREE and PAID 18+ and 45+ va...   \n",
       "228203  Hourly updates on FREE and PAID 18+ and 45+ va...   \n",
       "228204  Hourly updates on FREE and PAID 18+ and 45+ va...   \n",
       "228205  Entrepreneur, self taught cook🍲🌮 @Chelsea @Fer...   \n",
       "228206  Hourly updates on FREE and PAID 18+ and 45+ va...   \n",
       "\n",
       "               user_created  user_followers  user_friends  user_favourites  \\\n",
       "0       2009-04-08 17:52:46             405          1692             3247   \n",
       "1       2009-09-21 15:27:30             834           666              178   \n",
       "2       2020-06-25 23:30:28              10            88              155   \n",
       "3       2008-09-10 11:28:53           49165          3933            21853   \n",
       "4       2020-04-23 17:58:42             152           580             1473   \n",
       "...                     ...             ...           ...              ...   \n",
       "228202  2021-06-21 08:44:34              31             0                0   \n",
       "228203  2021-06-21 08:44:34              31             0                0   \n",
       "228204  2021-06-21 08:44:34              31             0                0   \n",
       "228205  2019-08-28 10:31:43            8103          3113            45726   \n",
       "228206  2021-06-21 08:44:34              31             0                0   \n",
       "\n",
       "        user_verified                 date  \\\n",
       "0               False  2020-12-20 06:06:44   \n",
       "1               False  2020-12-13 16:27:13   \n",
       "2               False  2020-12-12 20:33:45   \n",
       "3                True  2020-12-12 20:23:59   \n",
       "4               False  2020-12-12 20:17:19   \n",
       "...               ...                  ...   \n",
       "228202          False  2021-11-15 09:00:15   \n",
       "228203          False  2021-11-15 08:30:26   \n",
       "228204          False  2021-11-15 08:30:15   \n",
       "228205          False  2021-11-15 08:03:03   \n",
       "228206          False  2021-11-15 08:00:15   \n",
       "\n",
       "                                                     text  \\\n",
       "0       Same folks said daikon paste could treat a cyt...   \n",
       "1       While the world has been on the wrong side of ...   \n",
       "2       #coronavirus #SputnikV #AstraZeneca #PfizerBio...   \n",
       "3       Facts are immutable, Senator, even when you're...   \n",
       "4       Explain to me again why we need a vaccine @Bor...   \n",
       "...                                                   ...   \n",
       "228202  45+ #URBAN #Bengaluru #CovidVaccine Availabili...   \n",
       "228203  18-44 #BBMP #Bengaluru #CovidVaccine Availabil...   \n",
       "228204  18-44 #URBAN #Bengaluru #CovidVaccine Availabi...   \n",
       "228205  They promote their Vaccines leaving out the st...   \n",
       "228206  45+ #URBAN #Bengaluru #CovidVaccine Availabili...   \n",
       "\n",
       "                                                 hashtags  \\\n",
       "0                                      ['PfizerBioNTech']   \n",
       "1                                                     NaN   \n",
       "2       ['coronavirus', 'SputnikV', 'AstraZeneca', 'Pf...   \n",
       "3                                                     NaN   \n",
       "4          ['whereareallthesickpeople', 'PfizerBioNTech']   \n",
       "...                                                   ...   \n",
       "228202  ['URBAN', 'Bengaluru', 'CovidVaccine', 'COVISH...   \n",
       "228203  ['BBMP', 'Bengaluru', 'CovidVaccine', 'COVISHI...   \n",
       "228204  ['URBAN', 'Bengaluru', 'CovidVaccine', 'COVISH...   \n",
       "228205                                       ['SputnikV']   \n",
       "228206  ['URBAN', 'Bengaluru', 'CovidVaccine', 'COVISH...   \n",
       "\n",
       "                     source  retweets  favorites  is_retweet  \n",
       "0       Twitter for Android         0          0       False  \n",
       "1           Twitter Web App         1          1       False  \n",
       "2       Twitter for Android         0          0       False  \n",
       "3           Twitter Web App       446       2129       False  \n",
       "4        Twitter for iPhone         0          0       False  \n",
       "...                     ...       ...        ...         ...  \n",
       "228202               VaxBlr         0          0       False  \n",
       "228203               VaxBlr         0          1       False  \n",
       "228204               VaxBlr         0          0       False  \n",
       "228205  Twitter for Android         0          0       False  \n",
       "228206               VaxBlr         0          0       False  \n",
       "\n",
       "[228207 rows x 16 columns]"
      ]
     },
     "execution_count": 7,
     "metadata": {},
     "output_type": "execute_result"
    }
   ],
   "source": [
    "tweets_df"
   ]
  },
  {
   "cell_type": "code",
   "execution_count": 8,
   "metadata": {
    "id": "OU8UVkAzTYZE"
   },
   "outputs": [],
   "source": [
    "tweets_df['date'] = pd.to_datetime(tweets_df.date)"
   ]
  },
  {
   "cell_type": "code",
   "execution_count": 9,
   "metadata": {
    "id": "WsG82eoSUyBB"
   },
   "outputs": [],
   "source": [
    "tweets_df['month/year'] = pd.DatetimeIndex(tweets_df.date).month.astype(str) + ' / ' + pd.DatetimeIndex(tweets_df.date).year.astype(str)"
   ]
  },
  {
   "cell_type": "code",
   "execution_count": 10,
   "metadata": {
    "colab": {
     "base_uri": "https://localhost:8080/",
     "height": 426
    },
    "id": "TuwVnwXj-Ug5",
    "outputId": "ac574c79-3454-48ac-b236-5983e0b366b7"
   },
   "outputs": [
    {
     "data": {
      "text/html": [
       "<div>\n",
       "<style scoped>\n",
       "    .dataframe tbody tr th:only-of-type {\n",
       "        vertical-align: middle;\n",
       "    }\n",
       "\n",
       "    .dataframe tbody tr th {\n",
       "        vertical-align: top;\n",
       "    }\n",
       "\n",
       "    .dataframe thead th {\n",
       "        text-align: right;\n",
       "    }\n",
       "</style>\n",
       "<table border=\"1\" class=\"dataframe\">\n",
       "  <thead>\n",
       "    <tr style=\"text-align: right;\">\n",
       "      <th></th>\n",
       "      <th>month/year</th>\n",
       "      <th>Number of Tweets</th>\n",
       "    </tr>\n",
       "  </thead>\n",
       "  <tbody>\n",
       "    <tr>\n",
       "      <th>0</th>\n",
       "      <td>12 / 2020</td>\n",
       "      <td>1980</td>\n",
       "    </tr>\n",
       "    <tr>\n",
       "      <th>1</th>\n",
       "      <td>1 / 2021</td>\n",
       "      <td>3029</td>\n",
       "    </tr>\n",
       "    <tr>\n",
       "      <th>2</th>\n",
       "      <td>2 / 2021</td>\n",
       "      <td>10524</td>\n",
       "    </tr>\n",
       "    <tr>\n",
       "      <th>3</th>\n",
       "      <td>3 / 2021</td>\n",
       "      <td>27566</td>\n",
       "    </tr>\n",
       "    <tr>\n",
       "      <th>4</th>\n",
       "      <td>4 / 2021</td>\n",
       "      <td>26619</td>\n",
       "    </tr>\n",
       "    <tr>\n",
       "      <th>5</th>\n",
       "      <td>5 / 2021</td>\n",
       "      <td>18701</td>\n",
       "    </tr>\n",
       "    <tr>\n",
       "      <th>6</th>\n",
       "      <td>6 / 2021</td>\n",
       "      <td>35504</td>\n",
       "    </tr>\n",
       "    <tr>\n",
       "      <th>7</th>\n",
       "      <td>7 / 2021</td>\n",
       "      <td>28053</td>\n",
       "    </tr>\n",
       "    <tr>\n",
       "      <th>8</th>\n",
       "      <td>8 / 2021</td>\n",
       "      <td>28625</td>\n",
       "    </tr>\n",
       "    <tr>\n",
       "      <th>9</th>\n",
       "      <td>9 / 2021</td>\n",
       "      <td>16810</td>\n",
       "    </tr>\n",
       "    <tr>\n",
       "      <th>10</th>\n",
       "      <td>10 / 2021</td>\n",
       "      <td>16296</td>\n",
       "    </tr>\n",
       "    <tr>\n",
       "      <th>11</th>\n",
       "      <td>11 / 2021</td>\n",
       "      <td>14500</td>\n",
       "    </tr>\n",
       "  </tbody>\n",
       "</table>\n",
       "</div>"
      ],
      "text/plain": [
       "   month/year  Number of Tweets\n",
       "0   12 / 2020              1980\n",
       "1    1 / 2021              3029\n",
       "2    2 / 2021             10524\n",
       "3    3 / 2021             27566\n",
       "4    4 / 2021             26619\n",
       "5    5 / 2021             18701\n",
       "6    6 / 2021             35504\n",
       "7    7 / 2021             28053\n",
       "8    8 / 2021             28625\n",
       "9    9 / 2021             16810\n",
       "10  10 / 2021             16296\n",
       "11  11 / 2021             14500"
      ]
     },
     "execution_count": 10,
     "metadata": {},
     "output_type": "execute_result"
    }
   ],
   "source": [
    "tweets_by_date = tweets_df.groupby('month/year', sort=False)['text'].size().reset_index(name='Number of Tweets')\n",
    "tweets_by_date"
   ]
  },
  {
   "cell_type": "code",
   "execution_count": 11,
   "metadata": {
    "colab": {
     "base_uri": "https://localhost:8080/",
     "height": 426
    },
    "id": "rZhI6-612kJ0",
    "outputId": "4890a9ce-63de-42b2-d1a8-773f035e9826"
   },
   "outputs": [
    {
     "data": {
      "text/html": [
       "<div>\n",
       "<style scoped>\n",
       "    .dataframe tbody tr th:only-of-type {\n",
       "        vertical-align: middle;\n",
       "    }\n",
       "\n",
       "    .dataframe tbody tr th {\n",
       "        vertical-align: top;\n",
       "    }\n",
       "\n",
       "    .dataframe thead th {\n",
       "        text-align: right;\n",
       "    }\n",
       "</style>\n",
       "<table border=\"1\" class=\"dataframe\">\n",
       "  <thead>\n",
       "    <tr style=\"text-align: right;\">\n",
       "      <th></th>\n",
       "      <th>month/year</th>\n",
       "      <th>Number of Tweets</th>\n",
       "    </tr>\n",
       "  </thead>\n",
       "  <tbody>\n",
       "    <tr>\n",
       "      <th>0</th>\n",
       "      <td>12 / 2020</td>\n",
       "      <td>1980</td>\n",
       "    </tr>\n",
       "    <tr>\n",
       "      <th>1</th>\n",
       "      <td>1 / 2021</td>\n",
       "      <td>3029</td>\n",
       "    </tr>\n",
       "    <tr>\n",
       "      <th>2</th>\n",
       "      <td>2 / 2021</td>\n",
       "      <td>10524</td>\n",
       "    </tr>\n",
       "    <tr>\n",
       "      <th>3</th>\n",
       "      <td>3 / 2021</td>\n",
       "      <td>27566</td>\n",
       "    </tr>\n",
       "    <tr>\n",
       "      <th>4</th>\n",
       "      <td>4 / 2021</td>\n",
       "      <td>26619</td>\n",
       "    </tr>\n",
       "    <tr>\n",
       "      <th>5</th>\n",
       "      <td>5 / 2021</td>\n",
       "      <td>18701</td>\n",
       "    </tr>\n",
       "    <tr>\n",
       "      <th>6</th>\n",
       "      <td>6 / 2021</td>\n",
       "      <td>35504</td>\n",
       "    </tr>\n",
       "    <tr>\n",
       "      <th>7</th>\n",
       "      <td>7 / 2021</td>\n",
       "      <td>28053</td>\n",
       "    </tr>\n",
       "    <tr>\n",
       "      <th>8</th>\n",
       "      <td>8 / 2021</td>\n",
       "      <td>28625</td>\n",
       "    </tr>\n",
       "    <tr>\n",
       "      <th>9</th>\n",
       "      <td>9 / 2021</td>\n",
       "      <td>16810</td>\n",
       "    </tr>\n",
       "    <tr>\n",
       "      <th>10</th>\n",
       "      <td>10 / 2021</td>\n",
       "      <td>16296</td>\n",
       "    </tr>\n",
       "    <tr>\n",
       "      <th>11</th>\n",
       "      <td>11 / 2021</td>\n",
       "      <td>14500</td>\n",
       "    </tr>\n",
       "  </tbody>\n",
       "</table>\n",
       "</div>"
      ],
      "text/plain": [
       "   month/year  Number of Tweets\n",
       "0   12 / 2020              1980\n",
       "1    1 / 2021              3029\n",
       "2    2 / 2021             10524\n",
       "3    3 / 2021             27566\n",
       "4    4 / 2021             26619\n",
       "5    5 / 2021             18701\n",
       "6    6 / 2021             35504\n",
       "7    7 / 2021             28053\n",
       "8    8 / 2021             28625\n",
       "9    9 / 2021             16810\n",
       "10  10 / 2021             16296\n",
       "11  11 / 2021             14500"
      ]
     },
     "execution_count": 11,
     "metadata": {},
     "output_type": "execute_result"
    }
   ],
   "source": [
    "tweets_by_date= tweets_df.groupby('month/year', sort=False)['hashtags'].size().reset_index(name='Number of Tweets')\n",
    "tweets_by_date"
   ]
  },
  {
   "cell_type": "code",
   "execution_count": 12,
   "metadata": {
    "id": "_fUr8fAl3Eso"
   },
   "outputs": [],
   "source": [
    "# tweets_df['hashtags']=tweets_df['hashtags'].apply(lambda x:str(x))"
   ]
  },
  {
   "cell_type": "code",
   "execution_count": 13,
   "metadata": {
    "id": "AdLLdOTD3yBh"
   },
   "outputs": [],
   "source": [
    "dummy=tweets_df"
   ]
  },
  {
   "cell_type": "code",
   "execution_count": 14,
   "metadata": {
    "id": "s3ptHyPu5JlD"
   },
   "outputs": [],
   "source": [
    "dummy=dummy.dropna(axis=0)"
   ]
  },
  {
   "cell_type": "code",
   "execution_count": null,
   "metadata": {
    "id": "Vqq3iBk6zKeG"
   },
   "outputs": [],
   "source": []
  },
  {
   "cell_type": "code",
   "execution_count": 15,
   "metadata": {
    "colab": {
     "base_uri": "https://localhost:8080/"
    },
    "id": "_OgoxtEn_bXC",
    "outputId": "336e0bac-e6f9-446a-ce35-e21d2259f74c"
   },
   "outputs": [
    {
     "name": "stderr",
     "output_type": "stream",
     "text": [
      "C:\\Users\\Awais Nayyar\\AppData\\Local\\Temp\\ipykernel_13836\\2698921903.py:1: SettingWithCopyWarning: \n",
      "A value is trying to be set on a copy of a slice from a DataFrame.\n",
      "Try using .loc[row_indexer,col_indexer] = value instead\n",
      "\n",
      "See the caveats in the documentation: https://pandas.pydata.org/pandas-docs/stable/user_guide/indexing.html#returning-a-view-versus-a-copy\n",
      "  dummy['hashtags']=dummy['hashtags'].apply(lambda x:nt.remove_special_characters(x))\n",
      "C:\\Users\\Awais Nayyar\\AppData\\Local\\Temp\\ipykernel_13836\\2698921903.py:2: SettingWithCopyWarning: \n",
      "A value is trying to be set on a copy of a slice from a DataFrame.\n",
      "Try using .loc[row_indexer,col_indexer] = value instead\n",
      "\n",
      "See the caveats in the documentation: https://pandas.pydata.org/pandas-docs/stable/user_guide/indexing.html#returning-a-view-versus-a-copy\n",
      "  dummy['hashtags']=dummy['hashtags'].apply(lambda x:x.lower())\n"
     ]
    }
   ],
   "source": [
    "dummy['hashtags']=dummy['hashtags'].apply(lambda x:nt.remove_special_characters(x))\n",
    "dummy['hashtags']=dummy['hashtags'].apply(lambda x:x.lower())\n"
   ]
  },
  {
   "cell_type": "code",
   "execution_count": 16,
   "metadata": {
    "colab": {
     "base_uri": "https://localhost:8080/"
    },
    "id": "MNRTH2zz_xd-",
    "outputId": "32ddeb36-fddc-40a1-92bb-67b0e16ff286"
   },
   "outputs": [
    {
     "data": {
      "text/plain": [
       "0                                            pfizerbiontech\n",
       "2         coronavirus sputnikv astrazeneca pfizerbiontec...\n",
       "6                                               vaccination\n",
       "9         covidvaccine covid19vaccine us pakustv nyc hea...\n",
       "10                                   pfizerbiontech vaccine\n",
       "                                ...                        \n",
       "228202              urban bengaluru covidvaccine covishield\n",
       "228203               bbmp bengaluru covidvaccine covishield\n",
       "228204              urban bengaluru covidvaccine covishield\n",
       "228205                                             sputnikv\n",
       "228206              urban bengaluru covidvaccine covishield\n",
       "Name: hashtags, Length: 116057, dtype: object"
      ]
     },
     "execution_count": 16,
     "metadata": {},
     "output_type": "execute_result"
    }
   ],
   "source": [
    "dummy['hashtags']"
   ]
  },
  {
   "cell_type": "code",
   "execution_count": 17,
   "metadata": {
    "id": "KSFwCwQr2kBN"
   },
   "outputs": [],
   "source": [
    "hashtags_each_month=dummy.groupby('month/year')['hashtags'].apply(' '.join).reset_index(name='Monthly Hashtags')"
   ]
  },
  {
   "cell_type": "code",
   "execution_count": 18,
   "metadata": {
    "id": "hbxCdTyE6DKK"
   },
   "outputs": [],
   "source": [
    "import re"
   ]
  },
  {
   "cell_type": "code",
   "execution_count": 19,
   "metadata": {
    "id": "9OH7BvVg72Wl"
   },
   "outputs": [],
   "source": [
    "hash_list=[]"
   ]
  },
  {
   "cell_type": "code",
   "execution_count": 20,
   "metadata": {
    "id": "wvBWjNIZAoRE"
   },
   "outputs": [],
   "source": [
    "from collections import Counter"
   ]
  },
  {
   "cell_type": "code",
   "execution_count": 21,
   "metadata": {
    "id": "-nZyXuRD5V-T"
   },
   "outputs": [],
   "source": [
    "def processing(hashtags):\n",
    "    hash_list=[]\n",
    "    hashtags=hashtags.split(\" \")\n",
    "    print(hashtags)\n",
    "    for hash1 in hashtags:\n",
    "        hash_list.append(hash1)\n",
    "        print(hash_list)\n",
    "        count=Counter(hash_list)\n",
    "  \n",
    "    return count\n",
    "        #print(count)"
   ]
  },
  {
   "cell_type": "code",
   "execution_count": 22,
   "metadata": {
    "id": "OPFqlfLc-4Wi"
   },
   "outputs": [],
   "source": [
    "# hashtags_each_month['l']=hashtags_each_month['l'].apply(lambda x:nt.remove_custom_words)"
   ]
  },
  {
   "cell_type": "code",
   "execution_count": 23,
   "metadata": {},
   "outputs": [
    {
     "data": {
      "text/html": [
       "<div>\n",
       "<style scoped>\n",
       "    .dataframe tbody tr th:only-of-type {\n",
       "        vertical-align: middle;\n",
       "    }\n",
       "\n",
       "    .dataframe tbody tr th {\n",
       "        vertical-align: top;\n",
       "    }\n",
       "\n",
       "    .dataframe thead th {\n",
       "        text-align: right;\n",
       "    }\n",
       "</style>\n",
       "<table border=\"1\" class=\"dataframe\">\n",
       "  <thead>\n",
       "    <tr style=\"text-align: right;\">\n",
       "      <th></th>\n",
       "      <th>month/year</th>\n",
       "      <th>Monthly Hashtags</th>\n",
       "    </tr>\n",
       "  </thead>\n",
       "  <tbody>\n",
       "    <tr>\n",
       "      <th>0</th>\n",
       "      <td>1 / 2021</td>\n",
       "      <td>covid19 pfizerbiontech pfizervaccine opensourc...</td>\n",
       "    </tr>\n",
       "    <tr>\n",
       "      <th>1</th>\n",
       "      <td>10 / 2021</td>\n",
       "      <td>cancerpatients chemotherapy immuneresponse two...</td>\n",
       "    </tr>\n",
       "    <tr>\n",
       "      <th>2</th>\n",
       "      <td>11 / 2021</td>\n",
       "      <td>pfizerbiontech pfizerbiontech booster covid bo...</td>\n",
       "    </tr>\n",
       "    <tr>\n",
       "      <th>3</th>\n",
       "      <td>12 / 2020</td>\n",
       "      <td>pfizerbiontech coronavirus sputnikv astrazenec...</td>\n",
       "    </tr>\n",
       "    <tr>\n",
       "      <th>4</th>\n",
       "      <td>2 / 2021</td>\n",
       "      <td>pfizerbiontech immunocompromised pfizerbiontec...</td>\n",
       "    </tr>\n",
       "    <tr>\n",
       "      <th>5</th>\n",
       "      <td>3 / 2021</td>\n",
       "      <td>azn astrazeneca moderna aiims pmmodi covaxin c...</td>\n",
       "    </tr>\n",
       "    <tr>\n",
       "      <th>6</th>\n",
       "      <td>4 / 2021</td>\n",
       "      <td>covid19 covidvaccine moderna mrna biontech cov...</td>\n",
       "    </tr>\n",
       "    <tr>\n",
       "      <th>7</th>\n",
       "      <td>5 / 2021</td>\n",
       "      <td>turkey pfizerbiontech vaccine pfizerbiontech s...</td>\n",
       "    </tr>\n",
       "    <tr>\n",
       "      <th>8</th>\n",
       "      <td>6 / 2021</td>\n",
       "      <td>pfizerbiontech dubai pfizerbiontech covid19 ua...</td>\n",
       "    </tr>\n",
       "    <tr>\n",
       "      <th>9</th>\n",
       "      <td>7 / 2021</td>\n",
       "      <td>pfizerbiontech herdimmunitynow vacuna vaccine ...</td>\n",
       "    </tr>\n",
       "    <tr>\n",
       "      <th>10</th>\n",
       "      <td>8 / 2021</td>\n",
       "      <td>china sinopharm covid phnompenh dubai sinophar...</td>\n",
       "    </tr>\n",
       "    <tr>\n",
       "      <th>11</th>\n",
       "      <td>9 / 2021</td>\n",
       "      <td>pfizerbiontech comirnaty pfizerbiontech covid1...</td>\n",
       "    </tr>\n",
       "  </tbody>\n",
       "</table>\n",
       "</div>"
      ],
      "text/plain": [
       "   month/year                                   Monthly Hashtags\n",
       "0    1 / 2021  covid19 pfizerbiontech pfizervaccine opensourc...\n",
       "1   10 / 2021  cancerpatients chemotherapy immuneresponse two...\n",
       "2   11 / 2021  pfizerbiontech pfizerbiontech booster covid bo...\n",
       "3   12 / 2020  pfizerbiontech coronavirus sputnikv astrazenec...\n",
       "4    2 / 2021  pfizerbiontech immunocompromised pfizerbiontec...\n",
       "5    3 / 2021  azn astrazeneca moderna aiims pmmodi covaxin c...\n",
       "6    4 / 2021  covid19 covidvaccine moderna mrna biontech cov...\n",
       "7    5 / 2021  turkey pfizerbiontech vaccine pfizerbiontech s...\n",
       "8    6 / 2021  pfizerbiontech dubai pfizerbiontech covid19 ua...\n",
       "9    7 / 2021  pfizerbiontech herdimmunitynow vacuna vaccine ...\n",
       "10   8 / 2021  china sinopharm covid phnompenh dubai sinophar...\n",
       "11   9 / 2021  pfizerbiontech comirnaty pfizerbiontech covid1..."
      ]
     },
     "execution_count": 23,
     "metadata": {},
     "output_type": "execute_result"
    }
   ],
   "source": [
    "hashtags_each_month"
   ]
  },
  {
   "cell_type": "code",
   "execution_count": null,
   "metadata": {
    "id": "bzmgf7dy3YeA"
   },
   "outputs": [
    {
     "name": "stderr",
     "output_type": "stream",
     "text": [
      "IOPub data rate exceeded.\n",
      "The notebook server will temporarily stop sending output\n",
      "to the client in order to avoid crashing it.\n",
      "To change this limit, set the config variable\n",
      "`--NotebookApp.iopub_data_rate_limit`.\n",
      "\n",
      "Current values:\n",
      "NotebookApp.iopub_data_rate_limit=1000000.0 (bytes/sec)\n",
      "NotebookApp.rate_limit_window=3.0 (secs)\n",
      "\n"
     ]
    }
   ],
   "source": [
    "hashtags_each_month['hashtags_dict']=hashtags_each_month['Monthly Hashtags'][0:1000].apply(lambda x:processing(x))"
   ]
  },
  {
   "cell_type": "code",
   "execution_count": null,
   "metadata": {},
   "outputs": [],
   "source": [
    "hashtags_each_month"
   ]
  },
  {
   "cell_type": "code",
   "execution_count": null,
   "metadata": {
    "id": "KaGOgZ0uX1F8"
   },
   "outputs": [],
   "source": [
    "def make_bar_plot(x, y, title=None, xlable=None, ylable=None):\n",
    "    plt.figure(figsize=(15, 5))\n",
    "    sns.barplot(x, y)\n",
    "    plt.title(title, fontsize=18)\n",
    "    plt.xlabel(xlable, fontsize=14)\n",
    "    plt.ylabel(ylable, fontsize=14)\n",
    "    plt.xticks(rotation=65)\n",
    "    plt.show()"
   ]
  },
  {
   "cell_type": "code",
   "execution_count": null,
   "metadata": {
    "id": "l_TLObQ2cF_Z"
   },
   "outputs": [],
   "source": [
    "import warnings"
   ]
  },
  {
   "cell_type": "code",
   "execution_count": null,
   "metadata": {
    "id": "UoxibKqTO-Ut"
   },
   "outputs": [],
   "source": [
    "top_hashtags_list=['moderna','covid19','sputnikv','vaccine','covidvaccine','sinovac','pfizer','covaxin','covishield','bengaluru']"
   ]
  },
  {
   "cell_type": "code",
   "execution_count": null,
   "metadata": {
    "id": "EV23H-tOPAQ1"
   },
   "outputs": [],
   "source": [
    "temp_list=[]\n",
    "m_list=[]"
   ]
  },
  {
   "cell_type": "code",
   "execution_count": null,
   "metadata": {
    "id": "0VrtkC0KfFYl"
   },
   "outputs": [],
   "source": [
    "# plt.rcParams[\"figure.figsize\"] = (25,10)"
   ]
  },
  {
   "cell_type": "markdown",
   "metadata": {
    "id": "POa_8qWOdt9E"
   },
   "source": [
    "# **Hashtags Trend By Each Month**"
   ]
  },
  {
   "cell_type": "code",
   "execution_count": null,
   "metadata": {
    "id": "66aiPnR3BUQG"
   },
   "outputs": [],
   "source": [
    "# axes = plt.gca()\n",
    "def top_hashtags_cnt(hash_dict):\n",
    "  temp_list=[]\n",
    "  # cnt+=1\n",
    "  df=pd.DataFrame({'H':hash_dict.keys(),'C':hash_dict.values()})\n",
    "  df=df.sort_values(by='C',ascending=False)\n",
    "  for t_hash in top_hashtags_list:\n",
    "    if  t_hash in df['H'][0:10].tolist():\n",
    "      # df.query('H == t_hash')\n",
    "      # # print(d)\n",
    "\n",
    "      temp_list.append(df.loc[df['H']==t_hash]['C'].values[0])\n",
    "    else:\n",
    "      temp_list.append(0)\n",
    "  m_list.append(temp_list)\n",
    "\n",
    "  # temp_df=pd.DataFrame(temp_list)\n",
    "        # print(t_hash)\n",
    "  # plt.figure(figsize=(15, 5))\n",
    "  # plt.plot(\"H\",\"C\",data=df[0:5])\n",
    "  # # df[0:5].plot(kind='line', x='H', y='C', ax=axes);\n",
    "  # # plt.figure(figsize=(15, 5))\n",
    "  # plt.title(\"Hashtags ?Trend By Month\")\n",
    "  \n",
    "  # warnings.filterwarnings(\"ignore\")\n",
    "  # print(\" \")\n",
    "  # pd.DataFrame(temp_list)\n",
    "  # for i in temp_list:\n",
    "  #   print(str(i)+str(\"a\"))\n",
    "\n",
    "\n",
    "  # print(len(temp_list))"
   ]
  },
  {
   "cell_type": "code",
   "execution_count": null,
   "metadata": {
    "colab": {
     "base_uri": "https://localhost:8080/"
    },
    "id": "s4mXxxdGBUMb",
    "outputId": "78020906-cfbe-4647-fc78-1db60ff780d8"
   },
   "outputs": [],
   "source": [
    "hashtags_each_month['hashtags_dict'].apply(lambda x:top_hashtags_cnt(x))"
   ]
  },
  {
   "cell_type": "code",
   "execution_count": null,
   "metadata": {
    "id": "_tOeHcNs0Ifc"
   },
   "outputs": [],
   "source": [
    "top_hashtags_list=['moderna','covid19','sputnikv','vaccine','covidvaccine','sinovac','pfizer','covaxin','covishield','bengaluru']"
   ]
  },
  {
   "cell_type": "code",
   "execution_count": null,
   "metadata": {
    "id": "FS1Ow0kSBUI2"
   },
   "outputs": [],
   "source": [
    "temp_df=pd.DataFrame(m_list)\n",
    "temp_df.columns=top_hashtags_list"
   ]
  },
  {
   "cell_type": "code",
   "execution_count": null,
   "metadata": {
    "colab": {
     "base_uri": "https://localhost:8080/",
     "height": 426
    },
    "id": "vlH2vsvFdLwu",
    "outputId": "9377e4ec-1801-4f1f-bb80-184ca1449e07"
   },
   "outputs": [],
   "source": [
    "temp_df"
   ]
  },
  {
   "cell_type": "code",
   "execution_count": null,
   "metadata": {
    "id": "LAdy30iyBUF-"
   },
   "outputs": [],
   "source": [
    "new_df=pd.concat([hashtags_each_month['month/year'],temp_df],axis=1)"
   ]
  },
  {
   "cell_type": "markdown",
   "metadata": {
    "id": "SrJft517nkG2"
   },
   "source": [
    "# **Top Hahtags Trend**"
   ]
  },
  {
   "cell_type": "code",
   "execution_count": null,
   "metadata": {
    "colab": {
     "base_uri": "https://localhost:8080/",
     "height": 542
    },
    "id": "gr2QGmq2deW0",
    "outputId": "5a845c0e-6c68-4681-a96c-410de2ed5059"
   },
   "outputs": [],
   "source": [
    "px.line(new_df, x='month/year', y=top_hashtags_list,  title='Top Hashtags Trend')"
   ]
  },
  {
   "cell_type": "code",
   "execution_count": null,
   "metadata": {
    "colab": {
     "base_uri": "https://localhost:8080/",
     "height": 524
    },
    "id": "E_t0F-fnVEF9",
    "outputId": "84c05c74-570c-4835-d551-5d5a5dd5e725"
   },
   "outputs": [],
   "source": [
    "sns.set_style(\"darkgrid\")\n",
    "plt.figure(figsize=(20, 8))\n",
    "plt.plot(tweets_by_date['month/year'].str.replace(' / ', '\\n'),tweets_by_date['Number of Tweets'],'o--r',color='purple')\n",
    "plt.xlabel('Date')\n",
    "plt.ylabel('Number of Tweets')\n",
    "plt.title('The changes in the numbers of Tweets about Covid-19 Vaccines during 2020-2022');"
   ]
  },
  {
   "cell_type": "code",
   "execution_count": null,
   "metadata": {
    "id": "sWsicgXuYCDm"
   },
   "outputs": [],
   "source": [
    "def make_plots(feature, title=\"\", limited=False, n=10):\n",
    "    # print(\"Total unique values are: \", len(feature.value_counts()), \"\\n\\n\")\n",
    "    # print(\"Category\\tValue\\n\")\n",
    "    if limited:\n",
    "        data = feature.value_counts()[0:n]\n",
    "    else:\n",
    "        data = feature.value_counts()\n",
    "    # print(data)\n",
    "    categories_num = len(data)\n",
    "    #plotting bar-plot and pie chart\n",
    "    sns.set_style('darkgrid')\n",
    "    plt.figure(figsize=(20,5))\n",
    "    plt.subplot(1,2,1)\n",
    "    plt.title(title, fontsize=16)\n",
    "    plt.xticks(rotation=45)\n",
    "    plot = sns.barplot(x=data.index, y=data.values, edgecolor=\"white\", palette=sns.palettes.color_palette(\"icefire\"))\n",
    "    total = len(feature)\n",
    "    for p in plot.patches:\n",
    "        percentage = '{:.1f}%'.format(100 * p.get_height()/total)\n",
    "        x = p.get_x() + p.get_width() / 2 - 0.08\n",
    "        y = p.get_y() + p.get_height()\n",
    "        plot.annotate(percentage, (x, y), size = 12)\n",
    "    \n",
    "    plt.subplot(1,2,2)\n",
    "    labels = data.index\n",
    "    plt.pie(x=data, autopct=\"%.1f%%\", explode=[0.02]*categories_num, labels=labels, pctdistance=0.5)\n",
    "    plt.title(title, fontsize=16)\n",
    "    plt.show()"
   ]
  },
  {
   "cell_type": "markdown",
   "metadata": {
    "id": "jdh6o1OxW0aH"
   },
   "source": [
    "# **Top 5 User By Number of Tweets**"
   ]
  },
  {
   "cell_type": "code",
   "execution_count": null,
   "metadata": {
    "colab": {
     "base_uri": "https://localhost:8080/",
     "height": 540
    },
    "id": "Imx5K-UcZTN4",
    "outputId": "1d39e7d9-7d6a-4976-8fe0-f0a15f9cc77b"
   },
   "outputs": [],
   "source": [
    "make_plots(tweets_df['user_name'],\"Top 5 User By Number of Tweets\",True,5)"
   ]
  },
  {
   "cell_type": "markdown",
   "metadata": {
    "id": "6z2sfoT5W8Ge"
   },
   "source": [
    "# **Top-5 : How Many Times a Tweet Retweeted**"
   ]
  },
  {
   "cell_type": "code",
   "execution_count": null,
   "metadata": {
    "colab": {
     "base_uri": "https://localhost:8080/",
     "height": 339
    },
    "id": "dZdztf60YJHn",
    "outputId": "2c4c3292-23db-4485-95f3-3805f3a3b282"
   },
   "outputs": [],
   "source": [
    "make_plots(tweets_df['retweets'],\"Top-5 : How Many Times a Tweet Retweeted\",True,5)"
   ]
  },
  {
   "cell_type": "markdown",
   "metadata": {
    "id": "rB__2KN3sgU5"
   },
   "source": [
    "# **Tweet Sources Top-10**"
   ]
  },
  {
   "cell_type": "code",
   "execution_count": null,
   "metadata": {
    "colab": {
     "base_uri": "https://localhost:8080/",
     "height": 458
    },
    "id": "niCX7BKcsA8U",
    "outputId": "0096846c-6111-451b-dca2-db4449f7b302"
   },
   "outputs": [],
   "source": [
    "#Visualizing Tweet Platform-wise Distribution \n",
    "plt.figure(figsize=(15,5))\n",
    "tweets_df['source'].value_counts().nlargest(10).plot(kind='bar',color='red')\n",
    "plt.xticks(rotation=80)\n",
    "plt.show()"
   ]
  },
  {
   "cell_type": "markdown",
   "metadata": {
    "id": "4KGKRMCDXejw"
   },
   "source": [
    "# **Locations Top-20**"
   ]
  },
  {
   "cell_type": "code",
   "execution_count": null,
   "metadata": {
    "colab": {
     "base_uri": "https://localhost:8080/",
     "height": 454
    },
    "id": "TOfthzFmq3Un",
    "outputId": "2771b883-2a31-43ec-bd89-d7c1344af3cf"
   },
   "outputs": [],
   "source": [
    "plt.figure(figsize=(15,5))\n",
    "tweets_df['user_location'].value_counts().nlargest(20).plot(kind='bar',color=\"black\")\n",
    "plt.xticks(rotation=60)\n",
    "plt.show()"
   ]
  },
  {
   "cell_type": "code",
   "execution_count": null,
   "metadata": {
    "id": "VKt3nbaLuidc"
   },
   "outputs": [],
   "source": [
    "tweets_df['day of week'] = tweets_df['date'].dt.dayofweek\n",
    "tweets_df['year'] = tweets_df['date'].dt.year\n",
    "tweets_df['month'] = tweets_df['date'].dt.month\n",
    "tweets_df['day'] = tweets_df['date'].dt.day\n",
    "tweets_df['dayofweek'] = tweets_df['date'].dt.dayofweek\n",
    "tweets_df['hour'] = tweets_df['date'].dt.hour\n",
    "tweets_df['minute'] = tweets_df['date'].dt.minute\n",
    "tweets_df['dayofyear'] = tweets_df['date'].dt.dayofyear\n",
    "tweets_df['date_only'] = tweets_df['date'].dt.date"
   ]
  },
  {
   "cell_type": "code",
   "execution_count": null,
   "metadata": {
    "id": "6h5rzy7UorgC"
   },
   "outputs": [],
   "source": [
    "def hourly_tweets(feature, title,size=1, ordered=True):\n",
    "    f, ax = plt.subplots(1,1, figsize=(4*size,4))\n",
    "    total = float(len(tweets_df))\n",
    "    if ordered:\n",
    "        plot = sns.countplot(tweets_df[feature], order = tweets_df[feature].value_counts().index[:20], palette='Set3')\n",
    "    else:\n",
    "        plot = sns.countplot(tweets_df[feature], palette='Set1')\n",
    "    plot.set_title(\"Number and percentage of {}\".format(title))\n",
    "    if(size > 2):\n",
    "        plt.xticks(rotation=90, size=8)\n",
    "    for p in ax.patches:\n",
    "        height = p.get_height()\n",
    "        ax.text(p.get_x()+p.get_width()/2.,\n",
    "                height,\n",
    "                '{:1.2f}%'.format(100*height/total),\n",
    "                ha=\"center\") \n",
    "    plt.show() "
   ]
  },
  {
   "cell_type": "markdown",
   "metadata": {
    "id": "i_dWV5993m8f"
   },
   "source": [
    "# **Hourly Tweets Density**"
   ]
  },
  {
   "cell_type": "code",
   "execution_count": null,
   "metadata": {
    "colab": {
     "base_uri": "https://localhost:8080/",
     "height": 385
    },
    "id": "xFLprGdhorR0",
    "outputId": "6d6aaeb2-972c-46f3-dcc4-cc1c3977d847"
   },
   "outputs": [],
   "source": [
    "hourly_tweets(\"hour\", \"Tweets Per Hour\",size=4, ordered=False)"
   ]
  },
  {
   "cell_type": "code",
   "execution_count": null,
   "metadata": {
    "id": "2JOr88JzvZ5K"
   },
   "outputs": [],
   "source": [
    "def day_of_week(feature, title,size=1, ordered=True):\n",
    "    f, ax = plt.subplots(1,1, figsize=(4*size,4))\n",
    "    total = float(len(tweets_df))\n",
    "    if ordered:\n",
    "        plot = sns.countplot(tweets_df[feature], order = tweets_df[feature].value_counts().index[:20], palette='Set3')\n",
    "    else:\n",
    "        plot = sns.countplot(tweets_df[feature], palette='Set1')\n",
    "    plot.set_title(\"Number and percentage of {}\".format(title))\n",
    "    if(size > 2):\n",
    "        plt.xticks(rotation=90, size=8)\n",
    "    for p in ax.patches:\n",
    "        height = p.get_height()\n",
    "        ax.text(p.get_x()+p.get_width()/2.,\n",
    "                height,\n",
    "                '{:1.2f}%'.format(100*height/total),\n",
    "                ha=\"center\") \n",
    "    plt.show() "
   ]
  },
  {
   "cell_type": "markdown",
   "metadata": {
    "id": "nrYTrfusvgr6"
   },
   "source": [
    "# **Tweets By Days of Week -- Sunday=0**"
   ]
  },
  {
   "cell_type": "code",
   "execution_count": null,
   "metadata": {
    "colab": {
     "base_uri": "https://localhost:8080/",
     "height": 379
    },
    "id": "X8knK-MWu7Vw",
    "outputId": "d787a99c-7aba-4f5f-9a23-14fc3ef24c70"
   },
   "outputs": [],
   "source": [
    "day_of_week(\"day of week\", \"tweets / Day of Week\",size=3, ordered=False)"
   ]
  },
  {
   "cell_type": "markdown",
   "metadata": {
    "id": "fnzU0a922R6b"
   },
   "source": [
    "# **Verified vs Un-verified Users**"
   ]
  },
  {
   "cell_type": "code",
   "execution_count": null,
   "metadata": {
    "colab": {
     "base_uri": "https://localhost:8080/",
     "height": 466
    },
    "id": "zOL0Wh7F2HWS",
    "outputId": "e79467e8-f50f-45ee-ca3e-bec4fb73dfa9"
   },
   "outputs": [],
   "source": [
    "plt.figure(figsize=(8,8))\n",
    "tweets_df['user_verified'].value_counts().plot.pie()\n",
    "plt.show()"
   ]
  },
  {
   "cell_type": "markdown",
   "metadata": {
    "id": "GPfrYzm40zRD"
   },
   "source": [
    "# **Finding Hashtags**"
   ]
  },
  {
   "cell_type": "code",
   "execution_count": null,
   "metadata": {
    "id": "VVe2Iqg_zCOn"
   },
   "outputs": [],
   "source": [
    "hashtags=''"
   ]
  },
  {
   "cell_type": "code",
   "execution_count": null,
   "metadata": {
    "id": "noKys4JjyQPa"
   },
   "outputs": [],
   "source": [
    "import re\n",
    "def extract_cnt_of_hashtags(tweet):\n",
    "  hashtags=re.findall(r\"#(\\w+)\",tweet)\n",
    "  if hashtags is not None:\n",
    "    return len(hashtags)"
   ]
  },
  {
   "cell_type": "code",
   "execution_count": null,
   "metadata": {
    "id": "R5BvR6ZXyTIN"
   },
   "outputs": [],
   "source": [
    "tweets_df['Hashtags_Cnt']=tweets_df['text'].apply(lambda x:extract_cnt_of_hashtags(x))"
   ]
  },
  {
   "cell_type": "code",
   "execution_count": null,
   "metadata": {
    "id": "usHOkivNCic6"
   },
   "outputs": [],
   "source": [
    "def extract_hashtags(tweet):\n",
    "  hashtags=re.findall(r\"#(\\w+)\",tweet)\n",
    "  if hashtags is not None:\n",
    "    return hashtags"
   ]
  },
  {
   "cell_type": "code",
   "execution_count": null,
   "metadata": {
    "id": "1T24qrKOCiOE"
   },
   "outputs": [],
   "source": [
    "tweets_df['Hashtags']=tweets_df['text'].apply(lambda x:','.join(extract_hashtags(x)))\n",
    "tweets_df['Hashtags']=tweets_df['Hashtags'].apply(lambda x:''.join(str(x).strip()))\n"
   ]
  },
  {
   "cell_type": "code",
   "execution_count": null,
   "metadata": {
    "id": "sQP4NN02DY1q"
   },
   "outputs": [],
   "source": [
    "hashtags_list=[]"
   ]
  },
  {
   "cell_type": "code",
   "execution_count": null,
   "metadata": {
    "id": "YKP9gbM8DX29"
   },
   "outputs": [],
   "source": [
    "def hashtags_l(hash):\n",
    "  hashtags_list.append(hash)"
   ]
  },
  {
   "cell_type": "code",
   "execution_count": null,
   "metadata": {
    "colab": {
     "base_uri": "https://localhost:8080/"
    },
    "id": "h47PXX5WDy0Y",
    "outputId": "b6d1be90-65aa-4af1-9d6e-52eb3e785709"
   },
   "outputs": [],
   "source": [
    "tweets_df['Hashtags'].apply(lambda x:hashtags_l(x))"
   ]
  },
  {
   "cell_type": "code",
   "execution_count": null,
   "metadata": {
    "id": "0rE_VvpvDHLT"
   },
   "outputs": [],
   "source": [
    "from collections import Counter"
   ]
  },
  {
   "cell_type": "code",
   "execution_count": null,
   "metadata": {
    "id": "VtH3K-rrCx4w"
   },
   "outputs": [],
   "source": [
    "top_common_hashtags=Counter(str(hashtags_list).split(\",\")).most_common(20)[1:20]"
   ]
  },
  {
   "cell_type": "markdown",
   "metadata": {
    "id": "DTHvZ7J0Gunj"
   },
   "source": [
    "# **Top-20 Hashtags**"
   ]
  },
  {
   "cell_type": "code",
   "execution_count": null,
   "metadata": {
    "colab": {
     "base_uri": "https://localhost:8080/",
     "height": 483
    },
    "id": "vZRkZgK8Cxz0",
    "outputId": "c2972d63-7b62-488b-e05a-3fafae1bb19e"
   },
   "outputs": [],
   "source": [
    "x_val = [x[0] for x in top_common_hashtags]\n",
    "y_val = [x[1] for x in top_common_hashtags]\n",
    "plt.figure(figsize=(25,8))\n",
    "# print x_val\n",
    "plt.plot(x_val,y_val)\n",
    "plt.plot(x_val,y_val,'or')\n",
    "plt.show()"
   ]
  },
  {
   "cell_type": "code",
   "execution_count": null,
   "metadata": {
    "id": "J1M3wM8o_k6V"
   },
   "outputs": [],
   "source": [
    "hashtags_by_date= tweets_df.groupby('month/year', sort=False)['Hashtags_Cnt'].sum().reset_index(name='Number of Hashtags')"
   ]
  },
  {
   "cell_type": "markdown",
   "metadata": {
    "id": "dRt2Swn5AZX5"
   },
   "source": [
    "# **Number of Hashtags in Each Month**"
   ]
  },
  {
   "cell_type": "code",
   "execution_count": null,
   "metadata": {
    "colab": {
     "base_uri": "https://localhost:8080/",
     "height": 542
    },
    "id": "3Czu3CBWAF_v",
    "outputId": "f24c0d42-7a3b-4b90-f3df-97bf3b9fa63e"
   },
   "outputs": [],
   "source": [
    "px.line(hashtags_by_date, x='month/year', y='Number of Hashtags', title='COVID-19 Vaccines Hashtags Trend')"
   ]
  },
  {
   "cell_type": "markdown",
   "metadata": {
    "id": "mfJco1aLKJAq"
   },
   "source": [
    "# **Senitment Analysis**"
   ]
  },
  {
   "cell_type": "markdown",
   "metadata": {
    "id": "NJvbb1PVp_uw"
   },
   "source": [
    "## **Text Cleaning**"
   ]
  },
  {
   "cell_type": "code",
   "execution_count": null,
   "metadata": {
    "id": "qvFWievgKcrk"
   },
   "outputs": [],
   "source": [
    "def cleaning(tweet):\n",
    "  tweet=str(tweet)\n",
    "  tweet=nt.remove_urls(tweet)\n",
    "  tweet=nt.remove_userhandles(tweet)\n",
    "  tweet=nt.remove_special_characters(tweet)\n",
    "  tweet=nt.remove_numbers(tweet)\n",
    "  tweet=nt.remove_accents(tweet)\n",
    "  tweet = re.sub(r'#', '', tweet)\n",
    "  return tweet\n",
    "  # print(tweet)"
   ]
  },
  {
   "cell_type": "code",
   "execution_count": null,
   "metadata": {
    "id": "dmmuGf4uqLTE"
   },
   "outputs": [],
   "source": [
    "#in this step we remove just userhandldes, urls, special characters , numbers and hashtags. Because we are applying sentiment analysis\n",
    "#removal of stop words will affect sentiment in the sentence. Therefore, we did not remove stop words"
   ]
  },
  {
   "cell_type": "code",
   "execution_count": null,
   "metadata": {
    "id": "Cck5RxFFxw1k"
   },
   "outputs": [],
   "source": [
    "tweets_df['cleaned_text']=tweets_df['text'].apply(lambda x:cleaning(x))"
   ]
  },
  {
   "cell_type": "code",
   "execution_count": null,
   "metadata": {
    "id": "UnqmJ0kbkAY7"
   },
   "outputs": [],
   "source": [
    "tweets_by_date1= tweets_df.groupby('month/year', sort=False)['cleaned_text'].size().reset_index(name='Number of Cleaned Tweets')\n",
    "\n",
    "# tweets_by_date1['month/year']=tweets_by_date1['month/year'].apply(lambda x:int(x))\n"
   ]
  },
  {
   "cell_type": "code",
   "execution_count": null,
   "metadata": {
    "id": "ep8JnAIWjc8e"
   },
   "outputs": [],
   "source": []
  },
  {
   "cell_type": "markdown",
   "metadata": {
    "id": "23FNEPOxnZht"
   },
   "source": [
    "# **Aspect Based Sentiment Analysis**"
   ]
  },
  {
   "cell_type": "code",
   "execution_count": null,
   "metadata": {
    "id": "SuyaqPS5nT2n"
   },
   "outputs": [],
   "source": [
    "import spacy   #premium NLP package\n",
    "nlp=spacy.load(\"en_core_web_sm\")"
   ]
  },
  {
   "cell_type": "code",
   "execution_count": null,
   "metadata": {
    "id": "eVNFWYPQnTsL"
   },
   "outputs": [],
   "source": [
    "def ABSA(text):\n",
    "\t\tdoc=nlp(text)\n",
    "\t\tdescriptive_term = ''\n",
    "\t\ttarget = ''\n",
    "\t\tfor token in doc:\n",
    "\t\t\tif token.dep_ == 'nsubj' and token.pos_ == 'NOUN':\n",
    "\t\t\t\ttarget = token.text\n",
    "\t\t\tif token.pos_ == 'ADJ':\n",
    "\t\t\t\tprepend = ''\n",
    "\t\t\t\tfor child in token.children:\n",
    "\t\t\t\t\tif child.pos_ != 'ADV':\n",
    "\t\t\t\t\t\tcontinue\n",
    "\t\t\t\t\tprepend += child.text + ' '\n",
    "\t\t\t\t\tdescriptive_term = prepend + token.text\n",
    "\t\treturn target+\" \"+descriptive_term"
   ]
  },
  {
   "cell_type": "code",
   "execution_count": null,
   "metadata": {
    "id": "u_dS2N13nTiR"
   },
   "outputs": [],
   "source": [
    "tweets_df['Aspects']=tweets_df['cleaned_text'][0:1000].apply(lambda x:ABSA(x))"
   ]
  },
  {
   "cell_type": "markdown",
   "metadata": {
    "id": "iZB5FTfZrTVH"
   },
   "source": [
    "## **Senitments**"
   ]
  },
  {
   "cell_type": "code",
   "execution_count": null,
   "metadata": {
    "id": "sSBVIrgpNgsO"
   },
   "outputs": [],
   "source": [
    "from vaderSentiment.vaderSentiment import SentimentIntensityAnalyzer   #NLTK packahe for sentiment analysis\n",
    "sent_anal_obj=SentimentIntensityAnalyzer()"
   ]
  },
  {
   "cell_type": "code",
   "execution_count": null,
   "metadata": {
    "id": "S0uoZt6PK2p0"
   },
   "outputs": [],
   "source": [
    "def sentiment_tag(polarity):\n",
    "    if polarity >= 0.05 :\n",
    "        return \"Positive\"\n",
    "    elif polarity <= - 0.05:\n",
    "        return \"Negative\"\n",
    "    else:\n",
    "        return \"Neutral\""
   ]
  },
  {
   "cell_type": "code",
   "execution_count": null,
   "metadata": {
    "id": "9pRZCAvnNabP"
   },
   "outputs": [],
   "source": [
    "def sentiment_score(my_text):\n",
    "  sentimnent_dict=sent_anal_obj.polarity_scores(str(my_text))\n",
    "  return sentimnent_dict['compound']\n"
   ]
  },
  {
   "cell_type": "code",
   "execution_count": null,
   "metadata": {
    "id": "0JTu8J6qNydC"
   },
   "outputs": [],
   "source": [
    "tweets_df['Sentiment_Score']=tweets_df['cleaned_text'].apply(lambda x:sentiment_score(x))"
   ]
  },
  {
   "cell_type": "code",
   "execution_count": null,
   "metadata": {
    "id": "9t2vxrZJOJCA"
   },
   "outputs": [],
   "source": [
    "tweets_df['Sentiment_Tag']=tweets_df['Sentiment_Score'].apply(lambda x:sentiment_tag(x))"
   ]
  },
  {
   "cell_type": "markdown",
   "metadata": {
    "id": "5QTZSYfNO8oy"
   },
   "source": [
    "# **Sentiments Distribtution**"
   ]
  },
  {
   "cell_type": "code",
   "execution_count": null,
   "metadata": {
    "colab": {
     "base_uri": "https://localhost:8080/",
     "height": 349
    },
    "id": "BRtuGejuOaBy",
    "outputId": "bcaacf32-41b1-49ee-cd4c-465c5cc53193"
   },
   "outputs": [],
   "source": [
    "make_plots(tweets_df['Sentiment_Tag'])"
   ]
  },
  {
   "cell_type": "code",
   "execution_count": null,
   "metadata": {
    "id": "5fRmZVyDpZ87"
   },
   "outputs": [],
   "source": [
    "tweets_df.date = pd.to_datetime(tweets_df.date).dt.date"
   ]
  },
  {
   "cell_type": "code",
   "execution_count": null,
   "metadata": {
    "id": "FD3RGcO_J_O9"
   },
   "outputs": [],
   "source": [
    "hashtags_each_month=tweets_df.groupby('month/year')['Hashtags'].apply(','.join).reset_index(name='Monthly Hashtags')"
   ]
  },
  {
   "cell_type": "code",
   "execution_count": null,
   "metadata": {
    "id": "9OtZV-qOP6Qd"
   },
   "outputs": [],
   "source": [
    "def top_hashtags_each_month(hashtags):\n",
    "  f=Counter(hashtags.split(\",\")).most_common(2)\n",
    "  return f"
   ]
  },
  {
   "cell_type": "code",
   "execution_count": null,
   "metadata": {
    "id": "zSdu1k7kQPlZ"
   },
   "outputs": [],
   "source": [
    "hashtags_each_month['Top Hashtags by Each Month']=hashtags_each_month['Monthly Hashtags'].apply(lambda x:top_hashtags_each_month(x))"
   ]
  },
  {
   "cell_type": "code",
   "execution_count": null,
   "metadata": {
    "colab": {
     "base_uri": "https://localhost:8080/"
    },
    "id": "g_WE8OoM0PGw",
    "outputId": "cf6de8ed-39b2-4061-9a6f-b10df6a06d24"
   },
   "outputs": [],
   "source": [
    "hashtags_each_month['Top Hashtags by Each Month']"
   ]
  },
  {
   "cell_type": "code",
   "execution_count": null,
   "metadata": {
    "id": "MAIqzR22J_KA"
   },
   "outputs": [],
   "source": [
    "hashtags_each_month['Top Hashtags of  Month']=hashtags_each_month['Top Hashtags by Each Month'].apply(lambda x:[i[0] for i in x])\n",
    "hashtags_each_month['Top Hashtags by Each Month Cnt']=hashtags_each_month['Top Hashtags by Each Month'].apply(lambda x:[i[1] for i in x])\n",
    "# hashtags_each_month['Top Hashtags by Each Month Cnt']=hashtags_each_month['Top Hashtags by Each Month'].apply(lambda x:[i[0] for i in x])"
   ]
  },
  {
   "cell_type": "code",
   "execution_count": null,
   "metadata": {
    "id": "IahsVkdO0-9H"
   },
   "outputs": [],
   "source": [
    "hashtags_each_month['Top Hashtags by Each Month Cnt']=hashtags_each_month['Top Hashtags by Each Month Cnt'].apply(lambda x:str(x).split(\",\")[0])"
   ]
  },
  {
   "cell_type": "code",
   "execution_count": null,
   "metadata": {
    "id": "y6hHSZGTQn5U"
   },
   "outputs": [],
   "source": [
    "hashtags_each_month['Top Hashtags of  Month']=hashtags_each_month['Top Hashtags of  Month'].apply(lambda x:nt.remove_special_characters(str(x)))"
   ]
  },
  {
   "cell_type": "code",
   "execution_count": null,
   "metadata": {
    "id": "Jy9HKvgL1iLw"
   },
   "outputs": [],
   "source": [
    "hashtags_each_month['Top Hashtags by Each Month Cnt']=hashtags_each_month['Top Hashtags by Each Month Cnt'].apply(lambda x: nt.remove_special_characters(str(x)))"
   ]
  },
  {
   "cell_type": "markdown",
   "metadata": {
    "id": "ylhAM18kYTAc"
   },
   "source": [
    "# **Top Hashtag of Each Month--- Hashtags Trends**"
   ]
  },
  {
   "cell_type": "code",
   "execution_count": null,
   "metadata": {
    "colab": {
     "base_uri": "https://localhost:8080/",
     "height": 542
    },
    "id": "2PCYJyC2J_C9",
    "outputId": "701c3582-02fa-422d-e750-ddc932e105ed"
   },
   "outputs": [],
   "source": [
    "px.line(hashtags_each_month, x='month/year', y=['Top Hashtags of  Month'], title='COVID-19 Vaccines Hashtags Trend')"
   ]
  },
  {
   "cell_type": "markdown",
   "metadata": {
    "id": "wWoZ_LeCqbxD"
   },
   "source": [
    "# **Senitments Trends**"
   ]
  },
  {
   "cell_type": "code",
   "execution_count": null,
   "metadata": {
    "id": "7Xv8wqJ-Y_mq"
   },
   "outputs": [],
   "source": [
    "sentiments_trend = tweets_df[['user_name', 'date', 'Sentiment_Tag']].groupby(['date', 'Sentiment_Tag']).count().reset_index()\n",
    "sentiments_trend.columns = ['date', 'Sentiment', 'counts']\n"
   ]
  },
  {
   "cell_type": "code",
   "execution_count": null,
   "metadata": {
    "colab": {
     "base_uri": "https://localhost:8080/",
     "height": 542
    },
    "id": "p6kgkqpcqDmf",
    "outputId": "e70377f4-4f79-444a-a5de-d6d386ca057b"
   },
   "outputs": [],
   "source": [
    "px.line(sentiments_trend, x='date', y=['counts','Sentiment'], color='Sentiment', title='COVID-19 Vaccines Sentiment Analysis')"
   ]
  },
  {
   "cell_type": "markdown",
   "metadata": {
    "id": "g0LVkhpto50P"
   },
   "source": []
  },
  {
   "cell_type": "markdown",
   "metadata": {
    "id": "W4F-9QSUXkND"
   },
   "source": [
    "# **Emotions Analysis**"
   ]
  },
  {
   "cell_type": "markdown",
   "metadata": {
    "id": "VdvOBDTJXpdL"
   },
   "source": [
    "### **using huggign face transformers model for emotions detection**"
   ]
  },
  {
   "cell_type": "code",
   "execution_count": null,
   "metadata": {
    "colab": {
     "base_uri": "https://localhost:8080/",
     "height": 348,
     "referenced_widgets": [
      "2d0242b6fe3541ac931c4e8e02e17e03",
      "14304493708a46539d6e7c47e6fdc917",
      "eb502dc4a22e4d05bcbd47b2290ae882",
      "62d70faa33014d45bbb8efb0330d7278",
      "8503fc7926c1444c8d46d8074a20e573",
      "b843f4e31f044c23be2d23f145e72fbb",
      "589d2c1c06384f43ad702cbf0eb6aa08",
      "5128b077d1df41dc97c09162719bca31",
      "c11dab0d44fa4b07be9c44c48d72ab4d",
      "ae0fef77c5e44a99aa8cd82e36b83079",
      "152126b8f0d74fcaa41b495071b8aa27",
      "1c60428155254a7b8473867e2a99ca90",
      "6c9e870fb7bb4ed8af1818ca70d65bed",
      "4dca85ef33474e25a432b18369373cee",
      "b12c28645bfd4e4fb4c378ddc66d024c",
      "96101c16ac5b444f92a011d53cfba69f",
      "9665643ee7304ce5bdfdaaad8c567cbf",
      "e40fb8d84bb541848c7d6520e98b083a",
      "036f0005ee884167849400b099a2c163",
      "ebf449767eab4d6fa4b80b0784721ba9",
      "0b02780795874960958e294295c4706e",
      "eeec4c472c0f4fd8b290c806c4d1402d",
      "fa1fd94973634ed88292b6d723ad8f14",
      "b0a059707e6647619db89fbab4a4da44",
      "da5228909c1648cbb3e3fa56e9450259",
      "25932b720a86424b9875cfd36e820bb6",
      "9759af00ce6b43cca0d6175eacd7efa5",
      "1f5f3136e3bd48fe8433be5dcd405e6a",
      "083a698dd9454f2a861c7a71d9f8fea6",
      "e72b0b644b714643beb7ad5d7d972013",
      "27446f44217c4c7a9fb275e9bc2eb79f",
      "24a211f04a5c4b21972028c140b6770e",
      "a4d4cef7633040e798cadf12b6e35f24",
      "9a81421379954b2b9b8c0e75e392da61",
      "a5d0a112a2474bd49b451f613ddb53ec",
      "65e9dc9de10d4940a25489d6c29bbaaa",
      "7a7e2e65ee244b2a871318299bfbd4ad",
      "0257c0b342be42a5b6c10dac910a38ab",
      "c37edc46ce8f43c981e18a4915456414",
      "a757c08548bf4a3d8cdc31b9c28e7fe1",
      "26d0395b35ed482baf4a10ebac05bed7",
      "deb03b6f13c34bdbb20ea76142ce7555",
      "96a31eebb4a2430cb5dbcc0e79d593fd",
      "ff0f349b4b4e40f09629e3ea8cfe4688",
      "41effcb4a3d149e09ef56a7140e37989",
      "263a8cbf41f643d8bd365ea43729d91f",
      "5d623d19afed47e09e68063c2c648441",
      "5f148c4ccc904fdc852028dfba369fdd",
      "efb242bb178e4888be1b3c1504e55c97",
      "a305d1e62f7a421b9b6352ed496cfe7a",
      "8182057e870149e098ae9171324cbbaf",
      "3cc6948a74114644943788a5eaccb2f5",
      "78503bf7bc454fc8a43f2fe9a7adb23c",
      "e26216600ea44909b866d256b0e6da86",
      "a7b188fbe9d949cba7ec7b3ba41133b9",
      "57c7b7e73bd5405ebd26da9440cffc45",
      "47977e6179c941daaae279034111729d",
      "6b255c90887747669350538cf591c1b0",
      "e6fcf29c60b34ae7b4a5e442bc09ce6f",
      "b132646db6d74ec39d2e7b53fe827458",
      "d2928a2d16cb45338e065af16aac616d",
      "653eb57c99e04e85894ebb0b3954c8b6",
      "00cb5fd9dd464baeb72a164d6859b0ea",
      "76b2de6c0e8e414abee849f675f8e7a3",
      "6816cbb002fb48388a7baa09226aa636",
      "dfb13b5e9f954a5da6f974eb2803af95"
     ]
    },
    "id": "UQjEego7Ot5F",
    "outputId": "820b9e75-709e-4964-f173-a4a954e301b5"
   },
   "outputs": [],
   "source": [
    "! pip install transformers -q\n",
    "from transformers import pipeline\n",
    "emotion = pipeline('sentiment-analysis', model='arpanghoshal/EmoRoBERTa')"
   ]
  },
  {
   "cell_type": "code",
   "execution_count": null,
   "metadata": {
    "id": "gwtm9i_QTFKd"
   },
   "outputs": [],
   "source": [
    "tweets_df['Emotions']=tweets_df['cleaned_text'][0:1000].apply(emotion)"
   ]
  },
  {
   "cell_type": "code",
   "execution_count": null,
   "metadata": {
    "id": "tnlBUbZtsTff"
   },
   "outputs": [],
   "source": [
    "def extract_em(em_dict):\n",
    "  return em_dict[0]['label'] \n",
    "  # print(em_dict[0]['label'])\n"
   ]
  },
  {
   "cell_type": "code",
   "execution_count": null,
   "metadata": {
    "id": "dKzpYoh0sUg9"
   },
   "outputs": [],
   "source": [
    "tweets_df['Emotions_Label']=tweets_df['Emotions'][0:100].apply(lambda x:extract_em(x))"
   ]
  },
  {
   "cell_type": "code",
   "execution_count": null,
   "metadata": {
    "id": "ikhrbSdWUa9Z"
   },
   "outputs": [],
   "source": [
    "pd.set_option('display.max_rows', 100)"
   ]
  },
  {
   "cell_type": "code",
   "execution_count": null,
   "metadata": {
    "id": "ciTbSKgYJJZp"
   },
   "outputs": [],
   "source": [
    "hashtags_tokens=[]"
   ]
  },
  {
   "cell_type": "code",
   "execution_count": null,
   "metadata": {
    "id": "AS5OXP3dIugy"
   },
   "outputs": [],
   "source": [
    "def toknize_hashtags(hashtags):\n",
    "  hashtags_tokens=[]\n",
    "  hashtags=hashtags.lower()\n",
    "  doc=nlp(hashtags)\n",
    "  for token in doc:\n",
    "    hashtags_tokens.append(token.text)\n",
    "  return hashtags_tokens\n"
   ]
  },
  {
   "cell_type": "code",
   "execution_count": null,
   "metadata": {
    "id": "cqXdKOwlJhsX"
   },
   "outputs": [],
   "source": [
    "tweets_df['Hashtags']=tweets_df['Hashtags'].apply(lambda x:' '.join(toknize_hashtags(str(x))))"
   ]
  },
  {
   "cell_type": "markdown",
   "metadata": {
    "id": "yaNKfuJLr2Ak"
   },
   "source": [
    "# **Final Output**"
   ]
  },
  {
   "cell_type": "code",
   "execution_count": null,
   "metadata": {
    "colab": {
     "base_uri": "https://localhost:8080/",
     "height": 363
    },
    "id": "s9L-s2VMUp61",
    "outputId": "2a7f5df7-5be1-4683-8841-ccbe24b709d1"
   },
   "outputs": [],
   "source": [
    "tweets_df[[\"text\",\"Aspects\",\"Emotions_Label\",\"Sentiment_Tag\",\"Hashtags\"]].head(10)"
   ]
  },
  {
   "cell_type": "code",
   "execution_count": null,
   "metadata": {
    "id": "JxQuNTkFrEul"
   },
   "outputs": [],
   "source": [
    "em_by_date= tweets_df.groupby('month/year', sort=False)['Emotions_Label'].size().reset_index(name='Number of Emotions')\n"
   ]
  },
  {
   "cell_type": "code",
   "execution_count": null,
   "metadata": {
    "id": "wRIokxmcrTEz"
   },
   "outputs": [],
   "source": [
    "positive_sents=tweets_df[tweets_df['Sentiment_Tag']=='Positive']\n",
    "negative_sents=tweets_df[tweets_df['Sentiment_Tag']=='Negative']\n",
    "netural_sents=tweets_df[tweets_df['Sentiment_Tag']=='Neutral']\n"
   ]
  },
  {
   "cell_type": "code",
   "execution_count": null,
   "metadata": {
    "id": "lZN-utL1s_Oj"
   },
   "outputs": [],
   "source": [
    "positive_sents_by_date= positive_sents.groupby('month/year', sort=False)['Sentiment_Tag'].size().reset_index(name='Positive Sentiments')\n",
    "negative_sents_by_date= negative_sents.groupby('month/year', sort=False)['Sentiment_Tag'].size().reset_index(name='Negative Sentiments')\n",
    "netural_sents_by_date= netural_sents.groupby('month/year', sort=False)['Sentiment_Tag'].size().reset_index(name='Neutral Sentiments')"
   ]
  },
  {
   "cell_type": "code",
   "execution_count": null,
   "metadata": {
    "id": "IVSLy0zst1Es"
   },
   "outputs": [],
   "source": [
    "all_sents_by_date=pd.concat([positive_sents_by_date,negative_sents_by_date['Negative Sentiments'],netural_sents_by_date['Neutral Sentiments'],hashtags_each_month['Top Hashtags of  Month'],hashtags_each_month['Top Hashtags by Each Month Cnt']],axis=1)"
   ]
  },
  {
   "cell_type": "code",
   "execution_count": null,
   "metadata": {
    "id": "1UKaFSIf-3GH"
   },
   "outputs": [],
   "source": [
    "all_sents_by_date['Top Hashtags by Each Month Cnt']=all_sents_by_date['Top Hashtags by Each Month Cnt'].apply(lambda x: (int(x)/2))"
   ]
  },
  {
   "cell_type": "markdown",
   "metadata": {
    "id": "0K2kpWWkBIRD"
   },
   "source": [
    "## **Sentiments and Hashtags Frequency Trends : Alert ---- Please mulitply 'Top Hashtags' with 2 for real value for hashtags Counts**"
   ]
  },
  {
   "cell_type": "code",
   "execution_count": null,
   "metadata": {
    "colab": {
     "base_uri": "https://localhost:8080/",
     "height": 542
    },
    "id": "JtFzbNx28wL-",
    "outputId": "4452a065-f314-41a5-9fc8-d68f462667eb"
   },
   "outputs": [],
   "source": [
    "px.line(all_sents_by_date,x='month/year',y=['Positive Sentiments','Neutral Sentiments','Negative Sentiments','Top Hashtags by Each Month Cnt'])"
   ]
  },
  {
   "cell_type": "code",
   "execution_count": null,
   "metadata": {
    "id": "i8W4Rkht-zg5"
   },
   "outputs": [],
   "source": []
  }
 ],
 "metadata": {
  "colab": {
   "collapsed_sections": [],
   "name": "covid_tweets_sentiment_analysis.ipynb",
   "provenance": []
  },
  "kernelspec": {
   "display_name": "Python 3 (ipykernel)",
   "language": "python",
   "name": "python3"
  },
  "language_info": {
   "codemirror_mode": {
    "name": "ipython",
    "version": 3
   },
   "file_extension": ".py",
   "mimetype": "text/x-python",
   "name": "python",
   "nbconvert_exporter": "python",
   "pygments_lexer": "ipython3",
   "version": "3.11.0"
  },
  "widgets": {
   "application/vnd.jupyter.widget-state+json": {
    "00cb5fd9dd464baeb72a164d6859b0ea": {
     "model_module": "@jupyter-widgets/base",
     "model_module_version": "1.2.0",
     "model_name": "LayoutModel",
     "state": {
      "_model_module": "@jupyter-widgets/base",
      "_model_module_version": "1.2.0",
      "_model_name": "LayoutModel",
      "_view_count": null,
      "_view_module": "@jupyter-widgets/base",
      "_view_module_version": "1.2.0",
      "_view_name": "LayoutView",
      "align_content": null,
      "align_items": null,
      "align_self": null,
      "border": null,
      "bottom": null,
      "display": null,
      "flex": null,
      "flex_flow": null,
      "grid_area": null,
      "grid_auto_columns": null,
      "grid_auto_flow": null,
      "grid_auto_rows": null,
      "grid_column": null,
      "grid_gap": null,
      "grid_row": null,
      "grid_template_areas": null,
      "grid_template_columns": null,
      "grid_template_rows": null,
      "height": null,
      "justify_content": null,
      "justify_items": null,
      "left": null,
      "margin": null,
      "max_height": null,
      "max_width": null,
      "min_height": null,
      "min_width": null,
      "object_fit": null,
      "object_position": null,
      "order": null,
      "overflow": null,
      "overflow_x": null,
      "overflow_y": null,
      "padding": null,
      "right": null,
      "top": null,
      "visibility": null,
      "width": null
     }
    },
    "0257c0b342be42a5b6c10dac910a38ab": {
     "model_module": "@jupyter-widgets/base",
     "model_module_version": "1.2.0",
     "model_name": "LayoutModel",
     "state": {
      "_model_module": "@jupyter-widgets/base",
      "_model_module_version": "1.2.0",
      "_model_name": "LayoutModel",
      "_view_count": null,
      "_view_module": "@jupyter-widgets/base",
      "_view_module_version": "1.2.0",
      "_view_name": "LayoutView",
      "align_content": null,
      "align_items": null,
      "align_self": null,
      "border": null,
      "bottom": null,
      "display": null,
      "flex": null,
      "flex_flow": null,
      "grid_area": null,
      "grid_auto_columns": null,
      "grid_auto_flow": null,
      "grid_auto_rows": null,
      "grid_column": null,
      "grid_gap": null,
      "grid_row": null,
      "grid_template_areas": null,
      "grid_template_columns": null,
      "grid_template_rows": null,
      "height": null,
      "justify_content": null,
      "justify_items": null,
      "left": null,
      "margin": null,
      "max_height": null,
      "max_width": null,
      "min_height": null,
      "min_width": null,
      "object_fit": null,
      "object_position": null,
      "order": null,
      "overflow": null,
      "overflow_x": null,
      "overflow_y": null,
      "padding": null,
      "right": null,
      "top": null,
      "visibility": null,
      "width": null
     }
    },
    "036f0005ee884167849400b099a2c163": {
     "model_module": "@jupyter-widgets/base",
     "model_module_version": "1.2.0",
     "model_name": "LayoutModel",
     "state": {
      "_model_module": "@jupyter-widgets/base",
      "_model_module_version": "1.2.0",
      "_model_name": "LayoutModel",
      "_view_count": null,
      "_view_module": "@jupyter-widgets/base",
      "_view_module_version": "1.2.0",
      "_view_name": "LayoutView",
      "align_content": null,
      "align_items": null,
      "align_self": null,
      "border": null,
      "bottom": null,
      "display": null,
      "flex": null,
      "flex_flow": null,
      "grid_area": null,
      "grid_auto_columns": null,
      "grid_auto_flow": null,
      "grid_auto_rows": null,
      "grid_column": null,
      "grid_gap": null,
      "grid_row": null,
      "grid_template_areas": null,
      "grid_template_columns": null,
      "grid_template_rows": null,
      "height": null,
      "justify_content": null,
      "justify_items": null,
      "left": null,
      "margin": null,
      "max_height": null,
      "max_width": null,
      "min_height": null,
      "min_width": null,
      "object_fit": null,
      "object_position": null,
      "order": null,
      "overflow": null,
      "overflow_x": null,
      "overflow_y": null,
      "padding": null,
      "right": null,
      "top": null,
      "visibility": null,
      "width": null
     }
    },
    "083a698dd9454f2a861c7a71d9f8fea6": {
     "model_module": "@jupyter-widgets/controls",
     "model_module_version": "1.5.0",
     "model_name": "DescriptionStyleModel",
     "state": {
      "_model_module": "@jupyter-widgets/controls",
      "_model_module_version": "1.5.0",
      "_model_name": "DescriptionStyleModel",
      "_view_count": null,
      "_view_module": "@jupyter-widgets/base",
      "_view_module_version": "1.2.0",
      "_view_name": "StyleView",
      "description_width": ""
     }
    },
    "0b02780795874960958e294295c4706e": {
     "model_module": "@jupyter-widgets/base",
     "model_module_version": "1.2.0",
     "model_name": "LayoutModel",
     "state": {
      "_model_module": "@jupyter-widgets/base",
      "_model_module_version": "1.2.0",
      "_model_name": "LayoutModel",
      "_view_count": null,
      "_view_module": "@jupyter-widgets/base",
      "_view_module_version": "1.2.0",
      "_view_name": "LayoutView",
      "align_content": null,
      "align_items": null,
      "align_self": null,
      "border": null,
      "bottom": null,
      "display": null,
      "flex": null,
      "flex_flow": null,
      "grid_area": null,
      "grid_auto_columns": null,
      "grid_auto_flow": null,
      "grid_auto_rows": null,
      "grid_column": null,
      "grid_gap": null,
      "grid_row": null,
      "grid_template_areas": null,
      "grid_template_columns": null,
      "grid_template_rows": null,
      "height": null,
      "justify_content": null,
      "justify_items": null,
      "left": null,
      "margin": null,
      "max_height": null,
      "max_width": null,
      "min_height": null,
      "min_width": null,
      "object_fit": null,
      "object_position": null,
      "order": null,
      "overflow": null,
      "overflow_x": null,
      "overflow_y": null,
      "padding": null,
      "right": null,
      "top": null,
      "visibility": null,
      "width": null
     }
    },
    "14304493708a46539d6e7c47e6fdc917": {
     "model_module": "@jupyter-widgets/controls",
     "model_module_version": "1.5.0",
     "model_name": "HTMLModel",
     "state": {
      "_dom_classes": [],
      "_model_module": "@jupyter-widgets/controls",
      "_model_module_version": "1.5.0",
      "_model_name": "HTMLModel",
      "_view_count": null,
      "_view_module": "@jupyter-widgets/controls",
      "_view_module_version": "1.5.0",
      "_view_name": "HTMLView",
      "description": "",
      "description_tooltip": null,
      "layout": "IPY_MODEL_b843f4e31f044c23be2d23f145e72fbb",
      "placeholder": "​",
      "style": "IPY_MODEL_589d2c1c06384f43ad702cbf0eb6aa08",
      "value": "Downloading: 100%"
     }
    },
    "152126b8f0d74fcaa41b495071b8aa27": {
     "model_module": "@jupyter-widgets/controls",
     "model_module_version": "1.5.0",
     "model_name": "DescriptionStyleModel",
     "state": {
      "_model_module": "@jupyter-widgets/controls",
      "_model_module_version": "1.5.0",
      "_model_name": "DescriptionStyleModel",
      "_view_count": null,
      "_view_module": "@jupyter-widgets/base",
      "_view_module_version": "1.2.0",
      "_view_name": "StyleView",
      "description_width": ""
     }
    },
    "1c60428155254a7b8473867e2a99ca90": {
     "model_module": "@jupyter-widgets/controls",
     "model_module_version": "1.5.0",
     "model_name": "HBoxModel",
     "state": {
      "_dom_classes": [],
      "_model_module": "@jupyter-widgets/controls",
      "_model_module_version": "1.5.0",
      "_model_name": "HBoxModel",
      "_view_count": null,
      "_view_module": "@jupyter-widgets/controls",
      "_view_module_version": "1.5.0",
      "_view_name": "HBoxView",
      "box_style": "",
      "children": [
       "IPY_MODEL_6c9e870fb7bb4ed8af1818ca70d65bed",
       "IPY_MODEL_4dca85ef33474e25a432b18369373cee",
       "IPY_MODEL_b12c28645bfd4e4fb4c378ddc66d024c"
      ],
      "layout": "IPY_MODEL_96101c16ac5b444f92a011d53cfba69f"
     }
    },
    "1f5f3136e3bd48fe8433be5dcd405e6a": {
     "model_module": "@jupyter-widgets/base",
     "model_module_version": "1.2.0",
     "model_name": "LayoutModel",
     "state": {
      "_model_module": "@jupyter-widgets/base",
      "_model_module_version": "1.2.0",
      "_model_name": "LayoutModel",
      "_view_count": null,
      "_view_module": "@jupyter-widgets/base",
      "_view_module_version": "1.2.0",
      "_view_name": "LayoutView",
      "align_content": null,
      "align_items": null,
      "align_self": null,
      "border": null,
      "bottom": null,
      "display": null,
      "flex": null,
      "flex_flow": null,
      "grid_area": null,
      "grid_auto_columns": null,
      "grid_auto_flow": null,
      "grid_auto_rows": null,
      "grid_column": null,
      "grid_gap": null,
      "grid_row": null,
      "grid_template_areas": null,
      "grid_template_columns": null,
      "grid_template_rows": null,
      "height": null,
      "justify_content": null,
      "justify_items": null,
      "left": null,
      "margin": null,
      "max_height": null,
      "max_width": null,
      "min_height": null,
      "min_width": null,
      "object_fit": null,
      "object_position": null,
      "order": null,
      "overflow": null,
      "overflow_x": null,
      "overflow_y": null,
      "padding": null,
      "right": null,
      "top": null,
      "visibility": null,
      "width": null
     }
    },
    "24a211f04a5c4b21972028c140b6770e": {
     "model_module": "@jupyter-widgets/base",
     "model_module_version": "1.2.0",
     "model_name": "LayoutModel",
     "state": {
      "_model_module": "@jupyter-widgets/base",
      "_model_module_version": "1.2.0",
      "_model_name": "LayoutModel",
      "_view_count": null,
      "_view_module": "@jupyter-widgets/base",
      "_view_module_version": "1.2.0",
      "_view_name": "LayoutView",
      "align_content": null,
      "align_items": null,
      "align_self": null,
      "border": null,
      "bottom": null,
      "display": null,
      "flex": null,
      "flex_flow": null,
      "grid_area": null,
      "grid_auto_columns": null,
      "grid_auto_flow": null,
      "grid_auto_rows": null,
      "grid_column": null,
      "grid_gap": null,
      "grid_row": null,
      "grid_template_areas": null,
      "grid_template_columns": null,
      "grid_template_rows": null,
      "height": null,
      "justify_content": null,
      "justify_items": null,
      "left": null,
      "margin": null,
      "max_height": null,
      "max_width": null,
      "min_height": null,
      "min_width": null,
      "object_fit": null,
      "object_position": null,
      "order": null,
      "overflow": null,
      "overflow_x": null,
      "overflow_y": null,
      "padding": null,
      "right": null,
      "top": null,
      "visibility": null,
      "width": null
     }
    },
    "25932b720a86424b9875cfd36e820bb6": {
     "model_module": "@jupyter-widgets/controls",
     "model_module_version": "1.5.0",
     "model_name": "HTMLModel",
     "state": {
      "_dom_classes": [],
      "_model_module": "@jupyter-widgets/controls",
      "_model_module_version": "1.5.0",
      "_model_name": "HTMLModel",
      "_view_count": null,
      "_view_module": "@jupyter-widgets/controls",
      "_view_module_version": "1.5.0",
      "_view_name": "HTMLView",
      "description": "",
      "description_tooltip": null,
      "layout": "IPY_MODEL_24a211f04a5c4b21972028c140b6770e",
      "placeholder": "​",
      "style": "IPY_MODEL_a4d4cef7633040e798cadf12b6e35f24",
      "value": " 25.0/25.0 [00:00&lt;00:00, 483B/s]"
     }
    },
    "263a8cbf41f643d8bd365ea43729d91f": {
     "model_module": "@jupyter-widgets/controls",
     "model_module_version": "1.5.0",
     "model_name": "HTMLModel",
     "state": {
      "_dom_classes": [],
      "_model_module": "@jupyter-widgets/controls",
      "_model_module_version": "1.5.0",
      "_model_name": "HTMLModel",
      "_view_count": null,
      "_view_module": "@jupyter-widgets/controls",
      "_view_module_version": "1.5.0",
      "_view_name": "HTMLView",
      "description": "",
      "description_tooltip": null,
      "layout": "IPY_MODEL_a305d1e62f7a421b9b6352ed496cfe7a",
      "placeholder": "​",
      "style": "IPY_MODEL_8182057e870149e098ae9171324cbbaf",
      "value": "Downloading: 100%"
     }
    },
    "26d0395b35ed482baf4a10ebac05bed7": {
     "model_module": "@jupyter-widgets/base",
     "model_module_version": "1.2.0",
     "model_name": "LayoutModel",
     "state": {
      "_model_module": "@jupyter-widgets/base",
      "_model_module_version": "1.2.0",
      "_model_name": "LayoutModel",
      "_view_count": null,
      "_view_module": "@jupyter-widgets/base",
      "_view_module_version": "1.2.0",
      "_view_name": "LayoutView",
      "align_content": null,
      "align_items": null,
      "align_self": null,
      "border": null,
      "bottom": null,
      "display": null,
      "flex": null,
      "flex_flow": null,
      "grid_area": null,
      "grid_auto_columns": null,
      "grid_auto_flow": null,
      "grid_auto_rows": null,
      "grid_column": null,
      "grid_gap": null,
      "grid_row": null,
      "grid_template_areas": null,
      "grid_template_columns": null,
      "grid_template_rows": null,
      "height": null,
      "justify_content": null,
      "justify_items": null,
      "left": null,
      "margin": null,
      "max_height": null,
      "max_width": null,
      "min_height": null,
      "min_width": null,
      "object_fit": null,
      "object_position": null,
      "order": null,
      "overflow": null,
      "overflow_x": null,
      "overflow_y": null,
      "padding": null,
      "right": null,
      "top": null,
      "visibility": null,
      "width": null
     }
    },
    "27446f44217c4c7a9fb275e9bc2eb79f": {
     "model_module": "@jupyter-widgets/controls",
     "model_module_version": "1.5.0",
     "model_name": "ProgressStyleModel",
     "state": {
      "_model_module": "@jupyter-widgets/controls",
      "_model_module_version": "1.5.0",
      "_model_name": "ProgressStyleModel",
      "_view_count": null,
      "_view_module": "@jupyter-widgets/base",
      "_view_module_version": "1.2.0",
      "_view_name": "StyleView",
      "bar_color": null,
      "description_width": ""
     }
    },
    "2d0242b6fe3541ac931c4e8e02e17e03": {
     "model_module": "@jupyter-widgets/controls",
     "model_module_version": "1.5.0",
     "model_name": "HBoxModel",
     "state": {
      "_dom_classes": [],
      "_model_module": "@jupyter-widgets/controls",
      "_model_module_version": "1.5.0",
      "_model_name": "HBoxModel",
      "_view_count": null,
      "_view_module": "@jupyter-widgets/controls",
      "_view_module_version": "1.5.0",
      "_view_name": "HBoxView",
      "box_style": "",
      "children": [
       "IPY_MODEL_14304493708a46539d6e7c47e6fdc917",
       "IPY_MODEL_eb502dc4a22e4d05bcbd47b2290ae882",
       "IPY_MODEL_62d70faa33014d45bbb8efb0330d7278"
      ],
      "layout": "IPY_MODEL_8503fc7926c1444c8d46d8074a20e573"
     }
    },
    "3cc6948a74114644943788a5eaccb2f5": {
     "model_module": "@jupyter-widgets/base",
     "model_module_version": "1.2.0",
     "model_name": "LayoutModel",
     "state": {
      "_model_module": "@jupyter-widgets/base",
      "_model_module_version": "1.2.0",
      "_model_name": "LayoutModel",
      "_view_count": null,
      "_view_module": "@jupyter-widgets/base",
      "_view_module_version": "1.2.0",
      "_view_name": "LayoutView",
      "align_content": null,
      "align_items": null,
      "align_self": null,
      "border": null,
      "bottom": null,
      "display": null,
      "flex": null,
      "flex_flow": null,
      "grid_area": null,
      "grid_auto_columns": null,
      "grid_auto_flow": null,
      "grid_auto_rows": null,
      "grid_column": null,
      "grid_gap": null,
      "grid_row": null,
      "grid_template_areas": null,
      "grid_template_columns": null,
      "grid_template_rows": null,
      "height": null,
      "justify_content": null,
      "justify_items": null,
      "left": null,
      "margin": null,
      "max_height": null,
      "max_width": null,
      "min_height": null,
      "min_width": null,
      "object_fit": null,
      "object_position": null,
      "order": null,
      "overflow": null,
      "overflow_x": null,
      "overflow_y": null,
      "padding": null,
      "right": null,
      "top": null,
      "visibility": null,
      "width": null
     }
    },
    "41effcb4a3d149e09ef56a7140e37989": {
     "model_module": "@jupyter-widgets/controls",
     "model_module_version": "1.5.0",
     "model_name": "HBoxModel",
     "state": {
      "_dom_classes": [],
      "_model_module": "@jupyter-widgets/controls",
      "_model_module_version": "1.5.0",
      "_model_name": "HBoxModel",
      "_view_count": null,
      "_view_module": "@jupyter-widgets/controls",
      "_view_module_version": "1.5.0",
      "_view_name": "HBoxView",
      "box_style": "",
      "children": [
       "IPY_MODEL_263a8cbf41f643d8bd365ea43729d91f",
       "IPY_MODEL_5d623d19afed47e09e68063c2c648441",
       "IPY_MODEL_5f148c4ccc904fdc852028dfba369fdd"
      ],
      "layout": "IPY_MODEL_efb242bb178e4888be1b3c1504e55c97"
     }
    },
    "47977e6179c941daaae279034111729d": {
     "model_module": "@jupyter-widgets/controls",
     "model_module_version": "1.5.0",
     "model_name": "HTMLModel",
     "state": {
      "_dom_classes": [],
      "_model_module": "@jupyter-widgets/controls",
      "_model_module_version": "1.5.0",
      "_model_name": "HTMLModel",
      "_view_count": null,
      "_view_module": "@jupyter-widgets/controls",
      "_view_module_version": "1.5.0",
      "_view_name": "HTMLView",
      "description": "",
      "description_tooltip": null,
      "layout": "IPY_MODEL_d2928a2d16cb45338e065af16aac616d",
      "placeholder": "​",
      "style": "IPY_MODEL_653eb57c99e04e85894ebb0b3954c8b6",
      "value": "Downloading: 100%"
     }
    },
    "4dca85ef33474e25a432b18369373cee": {
     "model_module": "@jupyter-widgets/controls",
     "model_module_version": "1.5.0",
     "model_name": "FloatProgressModel",
     "state": {
      "_dom_classes": [],
      "_model_module": "@jupyter-widgets/controls",
      "_model_module_version": "1.5.0",
      "_model_name": "FloatProgressModel",
      "_view_count": null,
      "_view_module": "@jupyter-widgets/controls",
      "_view_module_version": "1.5.0",
      "_view_name": "ProgressView",
      "bar_style": "success",
      "description": "",
      "description_tooltip": null,
      "layout": "IPY_MODEL_036f0005ee884167849400b099a2c163",
      "max": 501322656,
      "min": 0,
      "orientation": "horizontal",
      "style": "IPY_MODEL_ebf449767eab4d6fa4b80b0784721ba9",
      "value": 501322656
     }
    },
    "5128b077d1df41dc97c09162719bca31": {
     "model_module": "@jupyter-widgets/base",
     "model_module_version": "1.2.0",
     "model_name": "LayoutModel",
     "state": {
      "_model_module": "@jupyter-widgets/base",
      "_model_module_version": "1.2.0",
      "_model_name": "LayoutModel",
      "_view_count": null,
      "_view_module": "@jupyter-widgets/base",
      "_view_module_version": "1.2.0",
      "_view_name": "LayoutView",
      "align_content": null,
      "align_items": null,
      "align_self": null,
      "border": null,
      "bottom": null,
      "display": null,
      "flex": null,
      "flex_flow": null,
      "grid_area": null,
      "grid_auto_columns": null,
      "grid_auto_flow": null,
      "grid_auto_rows": null,
      "grid_column": null,
      "grid_gap": null,
      "grid_row": null,
      "grid_template_areas": null,
      "grid_template_columns": null,
      "grid_template_rows": null,
      "height": null,
      "justify_content": null,
      "justify_items": null,
      "left": null,
      "margin": null,
      "max_height": null,
      "max_width": null,
      "min_height": null,
      "min_width": null,
      "object_fit": null,
      "object_position": null,
      "order": null,
      "overflow": null,
      "overflow_x": null,
      "overflow_y": null,
      "padding": null,
      "right": null,
      "top": null,
      "visibility": null,
      "width": null
     }
    },
    "57c7b7e73bd5405ebd26da9440cffc45": {
     "model_module": "@jupyter-widgets/controls",
     "model_module_version": "1.5.0",
     "model_name": "HBoxModel",
     "state": {
      "_dom_classes": [],
      "_model_module": "@jupyter-widgets/controls",
      "_model_module_version": "1.5.0",
      "_model_name": "HBoxModel",
      "_view_count": null,
      "_view_module": "@jupyter-widgets/controls",
      "_view_module_version": "1.5.0",
      "_view_name": "HBoxView",
      "box_style": "",
      "children": [
       "IPY_MODEL_47977e6179c941daaae279034111729d",
       "IPY_MODEL_6b255c90887747669350538cf591c1b0",
       "IPY_MODEL_e6fcf29c60b34ae7b4a5e442bc09ce6f"
      ],
      "layout": "IPY_MODEL_b132646db6d74ec39d2e7b53fe827458"
     }
    },
    "589d2c1c06384f43ad702cbf0eb6aa08": {
     "model_module": "@jupyter-widgets/controls",
     "model_module_version": "1.5.0",
     "model_name": "DescriptionStyleModel",
     "state": {
      "_model_module": "@jupyter-widgets/controls",
      "_model_module_version": "1.5.0",
      "_model_name": "DescriptionStyleModel",
      "_view_count": null,
      "_view_module": "@jupyter-widgets/base",
      "_view_module_version": "1.2.0",
      "_view_name": "StyleView",
      "description_width": ""
     }
    },
    "5d623d19afed47e09e68063c2c648441": {
     "model_module": "@jupyter-widgets/controls",
     "model_module_version": "1.5.0",
     "model_name": "FloatProgressModel",
     "state": {
      "_dom_classes": [],
      "_model_module": "@jupyter-widgets/controls",
      "_model_module_version": "1.5.0",
      "_model_name": "FloatProgressModel",
      "_view_count": null,
      "_view_module": "@jupyter-widgets/controls",
      "_view_module_version": "1.5.0",
      "_view_name": "ProgressView",
      "bar_style": "success",
      "description": "",
      "description_tooltip": null,
      "layout": "IPY_MODEL_3cc6948a74114644943788a5eaccb2f5",
      "max": 456356,
      "min": 0,
      "orientation": "horizontal",
      "style": "IPY_MODEL_78503bf7bc454fc8a43f2fe9a7adb23c",
      "value": 456356
     }
    },
    "5f148c4ccc904fdc852028dfba369fdd": {
     "model_module": "@jupyter-widgets/controls",
     "model_module_version": "1.5.0",
     "model_name": "HTMLModel",
     "state": {
      "_dom_classes": [],
      "_model_module": "@jupyter-widgets/controls",
      "_model_module_version": "1.5.0",
      "_model_name": "HTMLModel",
      "_view_count": null,
      "_view_module": "@jupyter-widgets/controls",
      "_view_module_version": "1.5.0",
      "_view_name": "HTMLView",
      "description": "",
      "description_tooltip": null,
      "layout": "IPY_MODEL_e26216600ea44909b866d256b0e6da86",
      "placeholder": "​",
      "style": "IPY_MODEL_a7b188fbe9d949cba7ec7b3ba41133b9",
      "value": " 446k/446k [00:00&lt;00:00, 2.74MB/s]"
     }
    },
    "62d70faa33014d45bbb8efb0330d7278": {
     "model_module": "@jupyter-widgets/controls",
     "model_module_version": "1.5.0",
     "model_name": "HTMLModel",
     "state": {
      "_dom_classes": [],
      "_model_module": "@jupyter-widgets/controls",
      "_model_module_version": "1.5.0",
      "_model_name": "HTMLModel",
      "_view_count": null,
      "_view_module": "@jupyter-widgets/controls",
      "_view_module_version": "1.5.0",
      "_view_name": "HTMLView",
      "description": "",
      "description_tooltip": null,
      "layout": "IPY_MODEL_ae0fef77c5e44a99aa8cd82e36b83079",
      "placeholder": "​",
      "style": "IPY_MODEL_152126b8f0d74fcaa41b495071b8aa27",
      "value": " 1.68k/1.68k [00:00&lt;00:00, 20.4kB/s]"
     }
    },
    "653eb57c99e04e85894ebb0b3954c8b6": {
     "model_module": "@jupyter-widgets/controls",
     "model_module_version": "1.5.0",
     "model_name": "DescriptionStyleModel",
     "state": {
      "_model_module": "@jupyter-widgets/controls",
      "_model_module_version": "1.5.0",
      "_model_name": "DescriptionStyleModel",
      "_view_count": null,
      "_view_module": "@jupyter-widgets/base",
      "_view_module_version": "1.2.0",
      "_view_name": "StyleView",
      "description_width": ""
     }
    },
    "65e9dc9de10d4940a25489d6c29bbaaa": {
     "model_module": "@jupyter-widgets/controls",
     "model_module_version": "1.5.0",
     "model_name": "FloatProgressModel",
     "state": {
      "_dom_classes": [],
      "_model_module": "@jupyter-widgets/controls",
      "_model_module_version": "1.5.0",
      "_model_name": "FloatProgressModel",
      "_view_count": null,
      "_view_module": "@jupyter-widgets/controls",
      "_view_module_version": "1.5.0",
      "_view_name": "ProgressView",
      "bar_style": "success",
      "description": "",
      "description_tooltip": null,
      "layout": "IPY_MODEL_26d0395b35ed482baf4a10ebac05bed7",
      "max": 798293,
      "min": 0,
      "orientation": "horizontal",
      "style": "IPY_MODEL_deb03b6f13c34bdbb20ea76142ce7555",
      "value": 798293
     }
    },
    "6816cbb002fb48388a7baa09226aa636": {
     "model_module": "@jupyter-widgets/base",
     "model_module_version": "1.2.0",
     "model_name": "LayoutModel",
     "state": {
      "_model_module": "@jupyter-widgets/base",
      "_model_module_version": "1.2.0",
      "_model_name": "LayoutModel",
      "_view_count": null,
      "_view_module": "@jupyter-widgets/base",
      "_view_module_version": "1.2.0",
      "_view_name": "LayoutView",
      "align_content": null,
      "align_items": null,
      "align_self": null,
      "border": null,
      "bottom": null,
      "display": null,
      "flex": null,
      "flex_flow": null,
      "grid_area": null,
      "grid_auto_columns": null,
      "grid_auto_flow": null,
      "grid_auto_rows": null,
      "grid_column": null,
      "grid_gap": null,
      "grid_row": null,
      "grid_template_areas": null,
      "grid_template_columns": null,
      "grid_template_rows": null,
      "height": null,
      "justify_content": null,
      "justify_items": null,
      "left": null,
      "margin": null,
      "max_height": null,
      "max_width": null,
      "min_height": null,
      "min_width": null,
      "object_fit": null,
      "object_position": null,
      "order": null,
      "overflow": null,
      "overflow_x": null,
      "overflow_y": null,
      "padding": null,
      "right": null,
      "top": null,
      "visibility": null,
      "width": null
     }
    },
    "6b255c90887747669350538cf591c1b0": {
     "model_module": "@jupyter-widgets/controls",
     "model_module_version": "1.5.0",
     "model_name": "FloatProgressModel",
     "state": {
      "_dom_classes": [],
      "_model_module": "@jupyter-widgets/controls",
      "_model_module_version": "1.5.0",
      "_model_name": "FloatProgressModel",
      "_view_count": null,
      "_view_module": "@jupyter-widgets/controls",
      "_view_module_version": "1.5.0",
      "_view_name": "ProgressView",
      "bar_style": "success",
      "description": "",
      "description_tooltip": null,
      "layout": "IPY_MODEL_00cb5fd9dd464baeb72a164d6859b0ea",
      "max": 239,
      "min": 0,
      "orientation": "horizontal",
      "style": "IPY_MODEL_76b2de6c0e8e414abee849f675f8e7a3",
      "value": 239
     }
    },
    "6c9e870fb7bb4ed8af1818ca70d65bed": {
     "model_module": "@jupyter-widgets/controls",
     "model_module_version": "1.5.0",
     "model_name": "HTMLModel",
     "state": {
      "_dom_classes": [],
      "_model_module": "@jupyter-widgets/controls",
      "_model_module_version": "1.5.0",
      "_model_name": "HTMLModel",
      "_view_count": null,
      "_view_module": "@jupyter-widgets/controls",
      "_view_module_version": "1.5.0",
      "_view_name": "HTMLView",
      "description": "",
      "description_tooltip": null,
      "layout": "IPY_MODEL_9665643ee7304ce5bdfdaaad8c567cbf",
      "placeholder": "​",
      "style": "IPY_MODEL_e40fb8d84bb541848c7d6520e98b083a",
      "value": "Downloading: 100%"
     }
    },
    "76b2de6c0e8e414abee849f675f8e7a3": {
     "model_module": "@jupyter-widgets/controls",
     "model_module_version": "1.5.0",
     "model_name": "ProgressStyleModel",
     "state": {
      "_model_module": "@jupyter-widgets/controls",
      "_model_module_version": "1.5.0",
      "_model_name": "ProgressStyleModel",
      "_view_count": null,
      "_view_module": "@jupyter-widgets/base",
      "_view_module_version": "1.2.0",
      "_view_name": "StyleView",
      "bar_color": null,
      "description_width": ""
     }
    },
    "78503bf7bc454fc8a43f2fe9a7adb23c": {
     "model_module": "@jupyter-widgets/controls",
     "model_module_version": "1.5.0",
     "model_name": "ProgressStyleModel",
     "state": {
      "_model_module": "@jupyter-widgets/controls",
      "_model_module_version": "1.5.0",
      "_model_name": "ProgressStyleModel",
      "_view_count": null,
      "_view_module": "@jupyter-widgets/base",
      "_view_module_version": "1.2.0",
      "_view_name": "StyleView",
      "bar_color": null,
      "description_width": ""
     }
    },
    "7a7e2e65ee244b2a871318299bfbd4ad": {
     "model_module": "@jupyter-widgets/controls",
     "model_module_version": "1.5.0",
     "model_name": "HTMLModel",
     "state": {
      "_dom_classes": [],
      "_model_module": "@jupyter-widgets/controls",
      "_model_module_version": "1.5.0",
      "_model_name": "HTMLModel",
      "_view_count": null,
      "_view_module": "@jupyter-widgets/controls",
      "_view_module_version": "1.5.0",
      "_view_name": "HTMLView",
      "description": "",
      "description_tooltip": null,
      "layout": "IPY_MODEL_96a31eebb4a2430cb5dbcc0e79d593fd",
      "placeholder": "​",
      "style": "IPY_MODEL_ff0f349b4b4e40f09629e3ea8cfe4688",
      "value": " 780k/780k [00:00&lt;00:00, 6.04MB/s]"
     }
    },
    "8182057e870149e098ae9171324cbbaf": {
     "model_module": "@jupyter-widgets/controls",
     "model_module_version": "1.5.0",
     "model_name": "DescriptionStyleModel",
     "state": {
      "_model_module": "@jupyter-widgets/controls",
      "_model_module_version": "1.5.0",
      "_model_name": "DescriptionStyleModel",
      "_view_count": null,
      "_view_module": "@jupyter-widgets/base",
      "_view_module_version": "1.2.0",
      "_view_name": "StyleView",
      "description_width": ""
     }
    },
    "8503fc7926c1444c8d46d8074a20e573": {
     "model_module": "@jupyter-widgets/base",
     "model_module_version": "1.2.0",
     "model_name": "LayoutModel",
     "state": {
      "_model_module": "@jupyter-widgets/base",
      "_model_module_version": "1.2.0",
      "_model_name": "LayoutModel",
      "_view_count": null,
      "_view_module": "@jupyter-widgets/base",
      "_view_module_version": "1.2.0",
      "_view_name": "LayoutView",
      "align_content": null,
      "align_items": null,
      "align_self": null,
      "border": null,
      "bottom": null,
      "display": null,
      "flex": null,
      "flex_flow": null,
      "grid_area": null,
      "grid_auto_columns": null,
      "grid_auto_flow": null,
      "grid_auto_rows": null,
      "grid_column": null,
      "grid_gap": null,
      "grid_row": null,
      "grid_template_areas": null,
      "grid_template_columns": null,
      "grid_template_rows": null,
      "height": null,
      "justify_content": null,
      "justify_items": null,
      "left": null,
      "margin": null,
      "max_height": null,
      "max_width": null,
      "min_height": null,
      "min_width": null,
      "object_fit": null,
      "object_position": null,
      "order": null,
      "overflow": null,
      "overflow_x": null,
      "overflow_y": null,
      "padding": null,
      "right": null,
      "top": null,
      "visibility": null,
      "width": null
     }
    },
    "96101c16ac5b444f92a011d53cfba69f": {
     "model_module": "@jupyter-widgets/base",
     "model_module_version": "1.2.0",
     "model_name": "LayoutModel",
     "state": {
      "_model_module": "@jupyter-widgets/base",
      "_model_module_version": "1.2.0",
      "_model_name": "LayoutModel",
      "_view_count": null,
      "_view_module": "@jupyter-widgets/base",
      "_view_module_version": "1.2.0",
      "_view_name": "LayoutView",
      "align_content": null,
      "align_items": null,
      "align_self": null,
      "border": null,
      "bottom": null,
      "display": null,
      "flex": null,
      "flex_flow": null,
      "grid_area": null,
      "grid_auto_columns": null,
      "grid_auto_flow": null,
      "grid_auto_rows": null,
      "grid_column": null,
      "grid_gap": null,
      "grid_row": null,
      "grid_template_areas": null,
      "grid_template_columns": null,
      "grid_template_rows": null,
      "height": null,
      "justify_content": null,
      "justify_items": null,
      "left": null,
      "margin": null,
      "max_height": null,
      "max_width": null,
      "min_height": null,
      "min_width": null,
      "object_fit": null,
      "object_position": null,
      "order": null,
      "overflow": null,
      "overflow_x": null,
      "overflow_y": null,
      "padding": null,
      "right": null,
      "top": null,
      "visibility": null,
      "width": null
     }
    },
    "9665643ee7304ce5bdfdaaad8c567cbf": {
     "model_module": "@jupyter-widgets/base",
     "model_module_version": "1.2.0",
     "model_name": "LayoutModel",
     "state": {
      "_model_module": "@jupyter-widgets/base",
      "_model_module_version": "1.2.0",
      "_model_name": "LayoutModel",
      "_view_count": null,
      "_view_module": "@jupyter-widgets/base",
      "_view_module_version": "1.2.0",
      "_view_name": "LayoutView",
      "align_content": null,
      "align_items": null,
      "align_self": null,
      "border": null,
      "bottom": null,
      "display": null,
      "flex": null,
      "flex_flow": null,
      "grid_area": null,
      "grid_auto_columns": null,
      "grid_auto_flow": null,
      "grid_auto_rows": null,
      "grid_column": null,
      "grid_gap": null,
      "grid_row": null,
      "grid_template_areas": null,
      "grid_template_columns": null,
      "grid_template_rows": null,
      "height": null,
      "justify_content": null,
      "justify_items": null,
      "left": null,
      "margin": null,
      "max_height": null,
      "max_width": null,
      "min_height": null,
      "min_width": null,
      "object_fit": null,
      "object_position": null,
      "order": null,
      "overflow": null,
      "overflow_x": null,
      "overflow_y": null,
      "padding": null,
      "right": null,
      "top": null,
      "visibility": null,
      "width": null
     }
    },
    "96a31eebb4a2430cb5dbcc0e79d593fd": {
     "model_module": "@jupyter-widgets/base",
     "model_module_version": "1.2.0",
     "model_name": "LayoutModel",
     "state": {
      "_model_module": "@jupyter-widgets/base",
      "_model_module_version": "1.2.0",
      "_model_name": "LayoutModel",
      "_view_count": null,
      "_view_module": "@jupyter-widgets/base",
      "_view_module_version": "1.2.0",
      "_view_name": "LayoutView",
      "align_content": null,
      "align_items": null,
      "align_self": null,
      "border": null,
      "bottom": null,
      "display": null,
      "flex": null,
      "flex_flow": null,
      "grid_area": null,
      "grid_auto_columns": null,
      "grid_auto_flow": null,
      "grid_auto_rows": null,
      "grid_column": null,
      "grid_gap": null,
      "grid_row": null,
      "grid_template_areas": null,
      "grid_template_columns": null,
      "grid_template_rows": null,
      "height": null,
      "justify_content": null,
      "justify_items": null,
      "left": null,
      "margin": null,
      "max_height": null,
      "max_width": null,
      "min_height": null,
      "min_width": null,
      "object_fit": null,
      "object_position": null,
      "order": null,
      "overflow": null,
      "overflow_x": null,
      "overflow_y": null,
      "padding": null,
      "right": null,
      "top": null,
      "visibility": null,
      "width": null
     }
    },
    "9759af00ce6b43cca0d6175eacd7efa5": {
     "model_module": "@jupyter-widgets/base",
     "model_module_version": "1.2.0",
     "model_name": "LayoutModel",
     "state": {
      "_model_module": "@jupyter-widgets/base",
      "_model_module_version": "1.2.0",
      "_model_name": "LayoutModel",
      "_view_count": null,
      "_view_module": "@jupyter-widgets/base",
      "_view_module_version": "1.2.0",
      "_view_name": "LayoutView",
      "align_content": null,
      "align_items": null,
      "align_self": null,
      "border": null,
      "bottom": null,
      "display": null,
      "flex": null,
      "flex_flow": null,
      "grid_area": null,
      "grid_auto_columns": null,
      "grid_auto_flow": null,
      "grid_auto_rows": null,
      "grid_column": null,
      "grid_gap": null,
      "grid_row": null,
      "grid_template_areas": null,
      "grid_template_columns": null,
      "grid_template_rows": null,
      "height": null,
      "justify_content": null,
      "justify_items": null,
      "left": null,
      "margin": null,
      "max_height": null,
      "max_width": null,
      "min_height": null,
      "min_width": null,
      "object_fit": null,
      "object_position": null,
      "order": null,
      "overflow": null,
      "overflow_x": null,
      "overflow_y": null,
      "padding": null,
      "right": null,
      "top": null,
      "visibility": null,
      "width": null
     }
    },
    "9a81421379954b2b9b8c0e75e392da61": {
     "model_module": "@jupyter-widgets/controls",
     "model_module_version": "1.5.0",
     "model_name": "HBoxModel",
     "state": {
      "_dom_classes": [],
      "_model_module": "@jupyter-widgets/controls",
      "_model_module_version": "1.5.0",
      "_model_name": "HBoxModel",
      "_view_count": null,
      "_view_module": "@jupyter-widgets/controls",
      "_view_module_version": "1.5.0",
      "_view_name": "HBoxView",
      "box_style": "",
      "children": [
       "IPY_MODEL_a5d0a112a2474bd49b451f613ddb53ec",
       "IPY_MODEL_65e9dc9de10d4940a25489d6c29bbaaa",
       "IPY_MODEL_7a7e2e65ee244b2a871318299bfbd4ad"
      ],
      "layout": "IPY_MODEL_0257c0b342be42a5b6c10dac910a38ab"
     }
    },
    "a305d1e62f7a421b9b6352ed496cfe7a": {
     "model_module": "@jupyter-widgets/base",
     "model_module_version": "1.2.0",
     "model_name": "LayoutModel",
     "state": {
      "_model_module": "@jupyter-widgets/base",
      "_model_module_version": "1.2.0",
      "_model_name": "LayoutModel",
      "_view_count": null,
      "_view_module": "@jupyter-widgets/base",
      "_view_module_version": "1.2.0",
      "_view_name": "LayoutView",
      "align_content": null,
      "align_items": null,
      "align_self": null,
      "border": null,
      "bottom": null,
      "display": null,
      "flex": null,
      "flex_flow": null,
      "grid_area": null,
      "grid_auto_columns": null,
      "grid_auto_flow": null,
      "grid_auto_rows": null,
      "grid_column": null,
      "grid_gap": null,
      "grid_row": null,
      "grid_template_areas": null,
      "grid_template_columns": null,
      "grid_template_rows": null,
      "height": null,
      "justify_content": null,
      "justify_items": null,
      "left": null,
      "margin": null,
      "max_height": null,
      "max_width": null,
      "min_height": null,
      "min_width": null,
      "object_fit": null,
      "object_position": null,
      "order": null,
      "overflow": null,
      "overflow_x": null,
      "overflow_y": null,
      "padding": null,
      "right": null,
      "top": null,
      "visibility": null,
      "width": null
     }
    },
    "a4d4cef7633040e798cadf12b6e35f24": {
     "model_module": "@jupyter-widgets/controls",
     "model_module_version": "1.5.0",
     "model_name": "DescriptionStyleModel",
     "state": {
      "_model_module": "@jupyter-widgets/controls",
      "_model_module_version": "1.5.0",
      "_model_name": "DescriptionStyleModel",
      "_view_count": null,
      "_view_module": "@jupyter-widgets/base",
      "_view_module_version": "1.2.0",
      "_view_name": "StyleView",
      "description_width": ""
     }
    },
    "a5d0a112a2474bd49b451f613ddb53ec": {
     "model_module": "@jupyter-widgets/controls",
     "model_module_version": "1.5.0",
     "model_name": "HTMLModel",
     "state": {
      "_dom_classes": [],
      "_model_module": "@jupyter-widgets/controls",
      "_model_module_version": "1.5.0",
      "_model_name": "HTMLModel",
      "_view_count": null,
      "_view_module": "@jupyter-widgets/controls",
      "_view_module_version": "1.5.0",
      "_view_name": "HTMLView",
      "description": "",
      "description_tooltip": null,
      "layout": "IPY_MODEL_c37edc46ce8f43c981e18a4915456414",
      "placeholder": "​",
      "style": "IPY_MODEL_a757c08548bf4a3d8cdc31b9c28e7fe1",
      "value": "Downloading: 100%"
     }
    },
    "a757c08548bf4a3d8cdc31b9c28e7fe1": {
     "model_module": "@jupyter-widgets/controls",
     "model_module_version": "1.5.0",
     "model_name": "DescriptionStyleModel",
     "state": {
      "_model_module": "@jupyter-widgets/controls",
      "_model_module_version": "1.5.0",
      "_model_name": "DescriptionStyleModel",
      "_view_count": null,
      "_view_module": "@jupyter-widgets/base",
      "_view_module_version": "1.2.0",
      "_view_name": "StyleView",
      "description_width": ""
     }
    },
    "a7b188fbe9d949cba7ec7b3ba41133b9": {
     "model_module": "@jupyter-widgets/controls",
     "model_module_version": "1.5.0",
     "model_name": "DescriptionStyleModel",
     "state": {
      "_model_module": "@jupyter-widgets/controls",
      "_model_module_version": "1.5.0",
      "_model_name": "DescriptionStyleModel",
      "_view_count": null,
      "_view_module": "@jupyter-widgets/base",
      "_view_module_version": "1.2.0",
      "_view_name": "StyleView",
      "description_width": ""
     }
    },
    "ae0fef77c5e44a99aa8cd82e36b83079": {
     "model_module": "@jupyter-widgets/base",
     "model_module_version": "1.2.0",
     "model_name": "LayoutModel",
     "state": {
      "_model_module": "@jupyter-widgets/base",
      "_model_module_version": "1.2.0",
      "_model_name": "LayoutModel",
      "_view_count": null,
      "_view_module": "@jupyter-widgets/base",
      "_view_module_version": "1.2.0",
      "_view_name": "LayoutView",
      "align_content": null,
      "align_items": null,
      "align_self": null,
      "border": null,
      "bottom": null,
      "display": null,
      "flex": null,
      "flex_flow": null,
      "grid_area": null,
      "grid_auto_columns": null,
      "grid_auto_flow": null,
      "grid_auto_rows": null,
      "grid_column": null,
      "grid_gap": null,
      "grid_row": null,
      "grid_template_areas": null,
      "grid_template_columns": null,
      "grid_template_rows": null,
      "height": null,
      "justify_content": null,
      "justify_items": null,
      "left": null,
      "margin": null,
      "max_height": null,
      "max_width": null,
      "min_height": null,
      "min_width": null,
      "object_fit": null,
      "object_position": null,
      "order": null,
      "overflow": null,
      "overflow_x": null,
      "overflow_y": null,
      "padding": null,
      "right": null,
      "top": null,
      "visibility": null,
      "width": null
     }
    },
    "b0a059707e6647619db89fbab4a4da44": {
     "model_module": "@jupyter-widgets/controls",
     "model_module_version": "1.5.0",
     "model_name": "HTMLModel",
     "state": {
      "_dom_classes": [],
      "_model_module": "@jupyter-widgets/controls",
      "_model_module_version": "1.5.0",
      "_model_name": "HTMLModel",
      "_view_count": null,
      "_view_module": "@jupyter-widgets/controls",
      "_view_module_version": "1.5.0",
      "_view_name": "HTMLView",
      "description": "",
      "description_tooltip": null,
      "layout": "IPY_MODEL_1f5f3136e3bd48fe8433be5dcd405e6a",
      "placeholder": "​",
      "style": "IPY_MODEL_083a698dd9454f2a861c7a71d9f8fea6",
      "value": "Downloading: 100%"
     }
    },
    "b12c28645bfd4e4fb4c378ddc66d024c": {
     "model_module": "@jupyter-widgets/controls",
     "model_module_version": "1.5.0",
     "model_name": "HTMLModel",
     "state": {
      "_dom_classes": [],
      "_model_module": "@jupyter-widgets/controls",
      "_model_module_version": "1.5.0",
      "_model_name": "HTMLModel",
      "_view_count": null,
      "_view_module": "@jupyter-widgets/controls",
      "_view_module_version": "1.5.0",
      "_view_name": "HTMLView",
      "description": "",
      "description_tooltip": null,
      "layout": "IPY_MODEL_0b02780795874960958e294295c4706e",
      "placeholder": "​",
      "style": "IPY_MODEL_eeec4c472c0f4fd8b290c806c4d1402d",
      "value": " 478M/478M [00:10&lt;00:00, 45.5MB/s]"
     }
    },
    "b132646db6d74ec39d2e7b53fe827458": {
     "model_module": "@jupyter-widgets/base",
     "model_module_version": "1.2.0",
     "model_name": "LayoutModel",
     "state": {
      "_model_module": "@jupyter-widgets/base",
      "_model_module_version": "1.2.0",
      "_model_name": "LayoutModel",
      "_view_count": null,
      "_view_module": "@jupyter-widgets/base",
      "_view_module_version": "1.2.0",
      "_view_name": "LayoutView",
      "align_content": null,
      "align_items": null,
      "align_self": null,
      "border": null,
      "bottom": null,
      "display": null,
      "flex": null,
      "flex_flow": null,
      "grid_area": null,
      "grid_auto_columns": null,
      "grid_auto_flow": null,
      "grid_auto_rows": null,
      "grid_column": null,
      "grid_gap": null,
      "grid_row": null,
      "grid_template_areas": null,
      "grid_template_columns": null,
      "grid_template_rows": null,
      "height": null,
      "justify_content": null,
      "justify_items": null,
      "left": null,
      "margin": null,
      "max_height": null,
      "max_width": null,
      "min_height": null,
      "min_width": null,
      "object_fit": null,
      "object_position": null,
      "order": null,
      "overflow": null,
      "overflow_x": null,
      "overflow_y": null,
      "padding": null,
      "right": null,
      "top": null,
      "visibility": null,
      "width": null
     }
    },
    "b843f4e31f044c23be2d23f145e72fbb": {
     "model_module": "@jupyter-widgets/base",
     "model_module_version": "1.2.0",
     "model_name": "LayoutModel",
     "state": {
      "_model_module": "@jupyter-widgets/base",
      "_model_module_version": "1.2.0",
      "_model_name": "LayoutModel",
      "_view_count": null,
      "_view_module": "@jupyter-widgets/base",
      "_view_module_version": "1.2.0",
      "_view_name": "LayoutView",
      "align_content": null,
      "align_items": null,
      "align_self": null,
      "border": null,
      "bottom": null,
      "display": null,
      "flex": null,
      "flex_flow": null,
      "grid_area": null,
      "grid_auto_columns": null,
      "grid_auto_flow": null,
      "grid_auto_rows": null,
      "grid_column": null,
      "grid_gap": null,
      "grid_row": null,
      "grid_template_areas": null,
      "grid_template_columns": null,
      "grid_template_rows": null,
      "height": null,
      "justify_content": null,
      "justify_items": null,
      "left": null,
      "margin": null,
      "max_height": null,
      "max_width": null,
      "min_height": null,
      "min_width": null,
      "object_fit": null,
      "object_position": null,
      "order": null,
      "overflow": null,
      "overflow_x": null,
      "overflow_y": null,
      "padding": null,
      "right": null,
      "top": null,
      "visibility": null,
      "width": null
     }
    },
    "c11dab0d44fa4b07be9c44c48d72ab4d": {
     "model_module": "@jupyter-widgets/controls",
     "model_module_version": "1.5.0",
     "model_name": "ProgressStyleModel",
     "state": {
      "_model_module": "@jupyter-widgets/controls",
      "_model_module_version": "1.5.0",
      "_model_name": "ProgressStyleModel",
      "_view_count": null,
      "_view_module": "@jupyter-widgets/base",
      "_view_module_version": "1.2.0",
      "_view_name": "StyleView",
      "bar_color": null,
      "description_width": ""
     }
    },
    "c37edc46ce8f43c981e18a4915456414": {
     "model_module": "@jupyter-widgets/base",
     "model_module_version": "1.2.0",
     "model_name": "LayoutModel",
     "state": {
      "_model_module": "@jupyter-widgets/base",
      "_model_module_version": "1.2.0",
      "_model_name": "LayoutModel",
      "_view_count": null,
      "_view_module": "@jupyter-widgets/base",
      "_view_module_version": "1.2.0",
      "_view_name": "LayoutView",
      "align_content": null,
      "align_items": null,
      "align_self": null,
      "border": null,
      "bottom": null,
      "display": null,
      "flex": null,
      "flex_flow": null,
      "grid_area": null,
      "grid_auto_columns": null,
      "grid_auto_flow": null,
      "grid_auto_rows": null,
      "grid_column": null,
      "grid_gap": null,
      "grid_row": null,
      "grid_template_areas": null,
      "grid_template_columns": null,
      "grid_template_rows": null,
      "height": null,
      "justify_content": null,
      "justify_items": null,
      "left": null,
      "margin": null,
      "max_height": null,
      "max_width": null,
      "min_height": null,
      "min_width": null,
      "object_fit": null,
      "object_position": null,
      "order": null,
      "overflow": null,
      "overflow_x": null,
      "overflow_y": null,
      "padding": null,
      "right": null,
      "top": null,
      "visibility": null,
      "width": null
     }
    },
    "d2928a2d16cb45338e065af16aac616d": {
     "model_module": "@jupyter-widgets/base",
     "model_module_version": "1.2.0",
     "model_name": "LayoutModel",
     "state": {
      "_model_module": "@jupyter-widgets/base",
      "_model_module_version": "1.2.0",
      "_model_name": "LayoutModel",
      "_view_count": null,
      "_view_module": "@jupyter-widgets/base",
      "_view_module_version": "1.2.0",
      "_view_name": "LayoutView",
      "align_content": null,
      "align_items": null,
      "align_self": null,
      "border": null,
      "bottom": null,
      "display": null,
      "flex": null,
      "flex_flow": null,
      "grid_area": null,
      "grid_auto_columns": null,
      "grid_auto_flow": null,
      "grid_auto_rows": null,
      "grid_column": null,
      "grid_gap": null,
      "grid_row": null,
      "grid_template_areas": null,
      "grid_template_columns": null,
      "grid_template_rows": null,
      "height": null,
      "justify_content": null,
      "justify_items": null,
      "left": null,
      "margin": null,
      "max_height": null,
      "max_width": null,
      "min_height": null,
      "min_width": null,
      "object_fit": null,
      "object_position": null,
      "order": null,
      "overflow": null,
      "overflow_x": null,
      "overflow_y": null,
      "padding": null,
      "right": null,
      "top": null,
      "visibility": null,
      "width": null
     }
    },
    "da5228909c1648cbb3e3fa56e9450259": {
     "model_module": "@jupyter-widgets/controls",
     "model_module_version": "1.5.0",
     "model_name": "FloatProgressModel",
     "state": {
      "_dom_classes": [],
      "_model_module": "@jupyter-widgets/controls",
      "_model_module_version": "1.5.0",
      "_model_name": "FloatProgressModel",
      "_view_count": null,
      "_view_module": "@jupyter-widgets/controls",
      "_view_module_version": "1.5.0",
      "_view_name": "ProgressView",
      "bar_style": "success",
      "description": "",
      "description_tooltip": null,
      "layout": "IPY_MODEL_e72b0b644b714643beb7ad5d7d972013",
      "max": 25,
      "min": 0,
      "orientation": "horizontal",
      "style": "IPY_MODEL_27446f44217c4c7a9fb275e9bc2eb79f",
      "value": 25
     }
    },
    "deb03b6f13c34bdbb20ea76142ce7555": {
     "model_module": "@jupyter-widgets/controls",
     "model_module_version": "1.5.0",
     "model_name": "ProgressStyleModel",
     "state": {
      "_model_module": "@jupyter-widgets/controls",
      "_model_module_version": "1.5.0",
      "_model_name": "ProgressStyleModel",
      "_view_count": null,
      "_view_module": "@jupyter-widgets/base",
      "_view_module_version": "1.2.0",
      "_view_name": "StyleView",
      "bar_color": null,
      "description_width": ""
     }
    },
    "dfb13b5e9f954a5da6f974eb2803af95": {
     "model_module": "@jupyter-widgets/controls",
     "model_module_version": "1.5.0",
     "model_name": "DescriptionStyleModel",
     "state": {
      "_model_module": "@jupyter-widgets/controls",
      "_model_module_version": "1.5.0",
      "_model_name": "DescriptionStyleModel",
      "_view_count": null,
      "_view_module": "@jupyter-widgets/base",
      "_view_module_version": "1.2.0",
      "_view_name": "StyleView",
      "description_width": ""
     }
    },
    "e26216600ea44909b866d256b0e6da86": {
     "model_module": "@jupyter-widgets/base",
     "model_module_version": "1.2.0",
     "model_name": "LayoutModel",
     "state": {
      "_model_module": "@jupyter-widgets/base",
      "_model_module_version": "1.2.0",
      "_model_name": "LayoutModel",
      "_view_count": null,
      "_view_module": "@jupyter-widgets/base",
      "_view_module_version": "1.2.0",
      "_view_name": "LayoutView",
      "align_content": null,
      "align_items": null,
      "align_self": null,
      "border": null,
      "bottom": null,
      "display": null,
      "flex": null,
      "flex_flow": null,
      "grid_area": null,
      "grid_auto_columns": null,
      "grid_auto_flow": null,
      "grid_auto_rows": null,
      "grid_column": null,
      "grid_gap": null,
      "grid_row": null,
      "grid_template_areas": null,
      "grid_template_columns": null,
      "grid_template_rows": null,
      "height": null,
      "justify_content": null,
      "justify_items": null,
      "left": null,
      "margin": null,
      "max_height": null,
      "max_width": null,
      "min_height": null,
      "min_width": null,
      "object_fit": null,
      "object_position": null,
      "order": null,
      "overflow": null,
      "overflow_x": null,
      "overflow_y": null,
      "padding": null,
      "right": null,
      "top": null,
      "visibility": null,
      "width": null
     }
    },
    "e40fb8d84bb541848c7d6520e98b083a": {
     "model_module": "@jupyter-widgets/controls",
     "model_module_version": "1.5.0",
     "model_name": "DescriptionStyleModel",
     "state": {
      "_model_module": "@jupyter-widgets/controls",
      "_model_module_version": "1.5.0",
      "_model_name": "DescriptionStyleModel",
      "_view_count": null,
      "_view_module": "@jupyter-widgets/base",
      "_view_module_version": "1.2.0",
      "_view_name": "StyleView",
      "description_width": ""
     }
    },
    "e6fcf29c60b34ae7b4a5e442bc09ce6f": {
     "model_module": "@jupyter-widgets/controls",
     "model_module_version": "1.5.0",
     "model_name": "HTMLModel",
     "state": {
      "_dom_classes": [],
      "_model_module": "@jupyter-widgets/controls",
      "_model_module_version": "1.5.0",
      "_model_name": "HTMLModel",
      "_view_count": null,
      "_view_module": "@jupyter-widgets/controls",
      "_view_module_version": "1.5.0",
      "_view_name": "HTMLView",
      "description": "",
      "description_tooltip": null,
      "layout": "IPY_MODEL_6816cbb002fb48388a7baa09226aa636",
      "placeholder": "​",
      "style": "IPY_MODEL_dfb13b5e9f954a5da6f974eb2803af95",
      "value": " 239/239 [00:00&lt;00:00, 4.31kB/s]"
     }
    },
    "e72b0b644b714643beb7ad5d7d972013": {
     "model_module": "@jupyter-widgets/base",
     "model_module_version": "1.2.0",
     "model_name": "LayoutModel",
     "state": {
      "_model_module": "@jupyter-widgets/base",
      "_model_module_version": "1.2.0",
      "_model_name": "LayoutModel",
      "_view_count": null,
      "_view_module": "@jupyter-widgets/base",
      "_view_module_version": "1.2.0",
      "_view_name": "LayoutView",
      "align_content": null,
      "align_items": null,
      "align_self": null,
      "border": null,
      "bottom": null,
      "display": null,
      "flex": null,
      "flex_flow": null,
      "grid_area": null,
      "grid_auto_columns": null,
      "grid_auto_flow": null,
      "grid_auto_rows": null,
      "grid_column": null,
      "grid_gap": null,
      "grid_row": null,
      "grid_template_areas": null,
      "grid_template_columns": null,
      "grid_template_rows": null,
      "height": null,
      "justify_content": null,
      "justify_items": null,
      "left": null,
      "margin": null,
      "max_height": null,
      "max_width": null,
      "min_height": null,
      "min_width": null,
      "object_fit": null,
      "object_position": null,
      "order": null,
      "overflow": null,
      "overflow_x": null,
      "overflow_y": null,
      "padding": null,
      "right": null,
      "top": null,
      "visibility": null,
      "width": null
     }
    },
    "eb502dc4a22e4d05bcbd47b2290ae882": {
     "model_module": "@jupyter-widgets/controls",
     "model_module_version": "1.5.0",
     "model_name": "FloatProgressModel",
     "state": {
      "_dom_classes": [],
      "_model_module": "@jupyter-widgets/controls",
      "_model_module_version": "1.5.0",
      "_model_name": "FloatProgressModel",
      "_view_count": null,
      "_view_module": "@jupyter-widgets/controls",
      "_view_module_version": "1.5.0",
      "_view_name": "ProgressView",
      "bar_style": "success",
      "description": "",
      "description_tooltip": null,
      "layout": "IPY_MODEL_5128b077d1df41dc97c09162719bca31",
      "max": 1720,
      "min": 0,
      "orientation": "horizontal",
      "style": "IPY_MODEL_c11dab0d44fa4b07be9c44c48d72ab4d",
      "value": 1720
     }
    },
    "ebf449767eab4d6fa4b80b0784721ba9": {
     "model_module": "@jupyter-widgets/controls",
     "model_module_version": "1.5.0",
     "model_name": "ProgressStyleModel",
     "state": {
      "_model_module": "@jupyter-widgets/controls",
      "_model_module_version": "1.5.0",
      "_model_name": "ProgressStyleModel",
      "_view_count": null,
      "_view_module": "@jupyter-widgets/base",
      "_view_module_version": "1.2.0",
      "_view_name": "StyleView",
      "bar_color": null,
      "description_width": ""
     }
    },
    "eeec4c472c0f4fd8b290c806c4d1402d": {
     "model_module": "@jupyter-widgets/controls",
     "model_module_version": "1.5.0",
     "model_name": "DescriptionStyleModel",
     "state": {
      "_model_module": "@jupyter-widgets/controls",
      "_model_module_version": "1.5.0",
      "_model_name": "DescriptionStyleModel",
      "_view_count": null,
      "_view_module": "@jupyter-widgets/base",
      "_view_module_version": "1.2.0",
      "_view_name": "StyleView",
      "description_width": ""
     }
    },
    "efb242bb178e4888be1b3c1504e55c97": {
     "model_module": "@jupyter-widgets/base",
     "model_module_version": "1.2.0",
     "model_name": "LayoutModel",
     "state": {
      "_model_module": "@jupyter-widgets/base",
      "_model_module_version": "1.2.0",
      "_model_name": "LayoutModel",
      "_view_count": null,
      "_view_module": "@jupyter-widgets/base",
      "_view_module_version": "1.2.0",
      "_view_name": "LayoutView",
      "align_content": null,
      "align_items": null,
      "align_self": null,
      "border": null,
      "bottom": null,
      "display": null,
      "flex": null,
      "flex_flow": null,
      "grid_area": null,
      "grid_auto_columns": null,
      "grid_auto_flow": null,
      "grid_auto_rows": null,
      "grid_column": null,
      "grid_gap": null,
      "grid_row": null,
      "grid_template_areas": null,
      "grid_template_columns": null,
      "grid_template_rows": null,
      "height": null,
      "justify_content": null,
      "justify_items": null,
      "left": null,
      "margin": null,
      "max_height": null,
      "max_width": null,
      "min_height": null,
      "min_width": null,
      "object_fit": null,
      "object_position": null,
      "order": null,
      "overflow": null,
      "overflow_x": null,
      "overflow_y": null,
      "padding": null,
      "right": null,
      "top": null,
      "visibility": null,
      "width": null
     }
    },
    "fa1fd94973634ed88292b6d723ad8f14": {
     "model_module": "@jupyter-widgets/controls",
     "model_module_version": "1.5.0",
     "model_name": "HBoxModel",
     "state": {
      "_dom_classes": [],
      "_model_module": "@jupyter-widgets/controls",
      "_model_module_version": "1.5.0",
      "_model_name": "HBoxModel",
      "_view_count": null,
      "_view_module": "@jupyter-widgets/controls",
      "_view_module_version": "1.5.0",
      "_view_name": "HBoxView",
      "box_style": "",
      "children": [
       "IPY_MODEL_b0a059707e6647619db89fbab4a4da44",
       "IPY_MODEL_da5228909c1648cbb3e3fa56e9450259",
       "IPY_MODEL_25932b720a86424b9875cfd36e820bb6"
      ],
      "layout": "IPY_MODEL_9759af00ce6b43cca0d6175eacd7efa5"
     }
    },
    "ff0f349b4b4e40f09629e3ea8cfe4688": {
     "model_module": "@jupyter-widgets/controls",
     "model_module_version": "1.5.0",
     "model_name": "DescriptionStyleModel",
     "state": {
      "_model_module": "@jupyter-widgets/controls",
      "_model_module_version": "1.5.0",
      "_model_name": "DescriptionStyleModel",
      "_view_count": null,
      "_view_module": "@jupyter-widgets/base",
      "_view_module_version": "1.2.0",
      "_view_name": "StyleView",
      "description_width": ""
     }
    }
   }
  }
 },
 "nbformat": 4,
 "nbformat_minor": 1
}
